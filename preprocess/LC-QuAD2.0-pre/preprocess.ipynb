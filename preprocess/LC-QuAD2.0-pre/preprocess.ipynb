{
 "cells": [
  {
   "cell_type": "code",
   "execution_count": 6,
   "id": "e950c143-c601-4113-931a-cb25f528c77e",
   "metadata": {
    "execution": {
     "iopub.execute_input": "2022-11-02T10:57:57.935784Z",
     "iopub.status.busy": "2022-11-02T10:57:57.935317Z",
     "iopub.status.idle": "2022-11-02T10:57:57.957662Z",
     "shell.execute_reply": "2022-11-02T10:57:57.956818Z",
     "shell.execute_reply.started": "2022-11-02T10:57:57.935657Z"
    },
    "tags": []
   },
   "outputs": [],
   "source": [
    "import os\n",
    "import re\n",
    "import json\n",
    "from tqdm import tqdm"
   ]
  },
  {
   "cell_type": "code",
   "execution_count": 7,
   "id": "bd8b9821-6503-45e0-a7a8-9b96164b966e",
   "metadata": {
    "execution": {
     "iopub.execute_input": "2022-11-02T10:59:45.839697Z",
     "iopub.status.busy": "2022-11-02T10:59:45.839160Z",
     "iopub.status.idle": "2022-11-02T10:59:45.853966Z",
     "shell.execute_reply": "2022-11-02T10:59:45.852711Z",
     "shell.execute_reply.started": "2022-11-02T10:59:45.839603Z"
    },
    "tags": []
   },
   "outputs": [],
   "source": [
    "vocab = ['\"', '(', 'rdfs:label', 'by', 'ask', '>', 'select', 'que', 'limit', 'jai', 'mai',\n",
    "                 '?sbj', ')', 'lang', 'year', '}', '?value', 'peint', 'desc', 'where', 'ce', \n",
    "                 'distinct',  'filter', 'lcase', 'order', 'la', '<', 'asc', 'en', 'contains', \n",
    "                 'as', ',', 'strstarts',  '{', \"'\", 'j', 'count', '=', '.', '?vr0', '?vr1', \n",
    "                 '?vr2', '?vr3', '?vr4', '?vr5', '?vr6',  '?vr0_label', '?vr1_label', '?vr2_label', \n",
    "                 '?vr3_label', '?vr4_label', '?vr5_label', '?vr6_label', 'wd:', 'wdt:', 'ps:', \n",
    "                 'p:', 'pq:', '?maskvar1', '[DEF]','[Entity]', '[Relation]', 'null']\n",
    "\n",
    "dict_vocab={}\n",
    "for i,text in enumerate(vocab):\n",
    "    dict_vocab['<extra_id_'+str(i+30)+'>']=text"
   ]
  },
  {
   "cell_type": "code",
   "execution_count": 8,
   "id": "36485fe2-f75d-434e-9173-6755be7c1638",
   "metadata": {
    "execution": {
     "iopub.execute_input": "2022-11-02T10:59:58.798249Z",
     "iopub.status.busy": "2022-11-02T10:59:58.797894Z",
     "iopub.status.idle": "2022-11-02T10:59:58.816209Z",
     "shell.execute_reply": "2022-11-02T10:59:58.815292Z",
     "shell.execute_reply.started": "2022-11-02T10:59:58.798206Z"
    },
    "tags": []
   },
   "outputs": [
    {
     "data": {
      "text/plain": [
       "'?vr0'"
      ]
     },
     "execution_count": 8,
     "metadata": {},
     "output_type": "execute_result"
    }
   ],
   "source": [
    "dict_vocab['<extra_id_69>']"
   ]
  },
  {
   "cell_type": "code",
   "execution_count": 9,
   "id": "a964654f-610c-4957-917b-123b63fce210",
   "metadata": {
    "execution": {
     "iopub.execute_input": "2022-11-02T10:57:59.023636Z",
     "iopub.status.busy": "2022-11-02T10:57:59.023135Z",
     "iopub.status.idle": "2022-11-02T10:57:59.040978Z",
     "shell.execute_reply": "2022-11-02T10:57:59.040407Z",
     "shell.execute_reply.started": "2022-11-02T10:57:59.023551Z"
    },
    "tags": []
   },
   "outputs": [],
   "source": [
    "class Preprocess(object):\n",
    "    def __init__(self):\n",
    "        \n",
    "        ent_labels = json.load(open('./json/entity.json', 'rb'))\n",
    "        rel_labels = json.load(open('./json/relation.json', 'rb'))\n",
    "        \n",
    "        vocab = ['\"', '(', 'rdfs:label', 'by', 'ask', '>', 'select', 'que', 'limit', 'jai', 'mai',\n",
    "                 '?sbj', ')', 'lang', 'year', '}', '?value', 'peint', 'desc', 'where', 'ce', \n",
    "                 'distinct',  'filter', 'lcase', 'order', 'la', '<', 'asc', 'en', 'contains', \n",
    "                 'as', ',', 'strstarts',  '{', \"'\", 'j', 'count', '=', '.', '?vr0', '?vr1', \n",
    "                 '?vr2', '?vr3', '?vr4', '?vr5', '?vr6',  '?vr0_label', '?vr1_label', '?vr2_label', \n",
    "                 '?vr3_label', '?vr4_label', '?vr5_label', '?vr6_label', 'wd:', 'wdt:', 'ps:', \n",
    "                 'p:', 'pq:', '?maskvar1', '[DEF]','[Entity]', '[Relation]', 'null']\n",
    "\n",
    "        vocab_dict={}\n",
    "        for i,text in enumerate(vocab):\n",
    "            vocab_dict[text]='<extra_id_'+str(i+30)+'>'\n",
    "\n",
    "        for kk in ent_labels:\n",
    "            if ent_labels[kk] is None: ent_labels[kk] = vocab_dict['null']\n",
    "\n",
    "        self.ent_labels = ent_labels\n",
    "        self.rel_labels = rel_labels\n",
    "        self.vocab_dict = vocab_dict\n",
    "\n",
    "    \n",
    "    def process(self, wikisparql):\n",
    "        sparql = wikisparql.replace('(',' ( ').replace(')',' ) ').replace('{',' { ')\\\n",
    "        .replace('}',' } ').replace(':',': ').replace(',',' , ').replace(\"'\",\" ' \")\\\n",
    "        .replace('.',' . ').replace('=',' = ').lower()\n",
    "        sparql = ' '.join(sparql.split())    \n",
    "            \n",
    "        split = sparql.split()\n",
    "        for idx, item in enumerate(split):\n",
    "            if item in self.ent_labels:\n",
    "                split[idx] = self.ent_labels[item]\n",
    "            elif item in self.rel_labels:\n",
    "                split[idx] = self.rel_labels[item]\n",
    "\n",
    "            if item in self.vocab_dict:\n",
    "                split[idx] = self.vocab_dict[item]\n",
    "        \n",
    "        return ' '.join(split).strip()\n",
    "        \n",
    "    def _preprocess(self, data):\n",
    "        # res = {'input': self.process(data['input']), 'target': self.process(data['target'])}\n",
    "\n",
    "        return {'input': self.process(data['input']), 'target': self.process(data['target'])}"
   ]
  },
  {
   "cell_type": "code",
   "execution_count": 10,
   "id": "2638d45f-c961-4787-8dd4-776c157acc28",
   "metadata": {
    "execution": {
     "iopub.execute_input": "2022-11-02T10:57:59.854988Z",
     "iopub.status.busy": "2022-11-02T10:57:59.854528Z",
     "iopub.status.idle": "2022-11-02T10:57:59.950481Z",
     "shell.execute_reply": "2022-11-02T10:57:59.949718Z",
     "shell.execute_reply.started": "2022-11-02T10:57:59.854928Z"
    },
    "tags": []
   },
   "outputs": [],
   "source": [
    "test_data = json.load(open('/home/csu/text2sparql_1toc/preprocess/LC-QuAD2.0-pre/flip_test.json', 'rb'))\n",
    "train_data = json.load(open('/home/csu/text2sparql_1toc/preprocess/LC-QuAD2.0-pre/filp_trian.json', 'rb'))"
   ]
  },
  {
   "cell_type": "code",
   "execution_count": 11,
   "id": "09b883c9-0010-47b8-95e2-f9536e0fda73",
   "metadata": {
    "execution": {
     "iopub.execute_input": "2022-11-02T10:58:00.767544Z",
     "iopub.status.busy": "2022-11-02T10:58:00.767169Z",
     "iopub.status.idle": "2022-11-02T10:58:00.801205Z",
     "shell.execute_reply": "2022-11-02T10:58:00.800093Z",
     "shell.execute_reply.started": "2022-11-02T10:58:00.767494Z"
    },
    "tags": []
   },
   "outputs": [],
   "source": [
    "pre = Preprocess()\n",
    "\n",
    "path = '../../transform/transformers_cache/downloads/LC-QuAD2.0-pre/dataset'"
   ]
  },
  {
   "cell_type": "code",
   "execution_count": 12,
   "id": "0a0b330e-7cd8-4157-8bda-c4ac66a38867",
   "metadata": {
    "execution": {
     "iopub.execute_input": "2022-11-02T10:58:01.800390Z",
     "iopub.status.busy": "2022-11-02T10:58:01.799937Z",
     "iopub.status.idle": "2022-11-02T10:58:02.952231Z",
     "shell.execute_reply": "2022-11-02T10:58:02.951347Z",
     "shell.execute_reply.started": "2022-11-02T10:58:01.800341Z"
    },
    "tags": []
   },
   "outputs": [
    {
     "name": "stderr",
     "output_type": "stream",
     "text": [
      "100%|██████████| 24180/24180 [00:00<00:00, 49094.35it/s]\n"
     ]
    }
   ],
   "source": [
    "train = [pre._preprocess(item) for item in tqdm(train_data)]\n",
    "\n",
    "with open(f'{path}/train.json','w+') as file:\n",
    "    file.write(json.dumps(train, indent=2))"
   ]
  },
  {
   "cell_type": "code",
   "execution_count": 13,
   "id": "ef63742f-d679-460e-ac0a-b44286dca5df",
   "metadata": {
    "execution": {
     "iopub.execute_input": "2022-11-02T10:58:03.481621Z",
     "iopub.status.busy": "2022-11-02T10:58:03.480394Z",
     "iopub.status.idle": "2022-11-02T10:58:03.749277Z",
     "shell.execute_reply": "2022-11-02T10:58:03.747594Z",
     "shell.execute_reply.started": "2022-11-02T10:58:03.481560Z"
    },
    "scrolled": true,
    "tags": []
   },
   "outputs": [
    {
     "name": "stderr",
     "output_type": "stream",
     "text": [
      "100%|██████████| 6046/6046 [00:00<00:00, 47173.21it/s]\n"
     ]
    }
   ],
   "source": [
    "test = [pre._preprocess(item) for item in tqdm(test_data)]\n",
    "\n",
    "with open(f'{path}/test.json','w+') as file:\n",
    "    file.write(json.dumps(test, indent=2))"
   ]
  },
  {
   "cell_type": "code",
   "execution_count": null,
   "id": "1eb90169-2446-4920-ab28-f6687e5344fc",
   "metadata": {},
   "outputs": [],
   "source": []
  },
  {
   "cell_type": "code",
   "execution_count": 14,
   "id": "9a4a064a-563a-4310-a142-7a4a00e7724a",
   "metadata": {
    "execution": {
     "iopub.execute_input": "2022-10-24T02:13:25.517141Z",
     "iopub.status.busy": "2022-10-24T02:13:25.516730Z",
     "iopub.status.idle": "2022-10-24T02:13:25.539190Z",
     "shell.execute_reply": "2022-10-24T02:13:25.538315Z",
     "shell.execute_reply.started": "2022-10-24T02:13:25.517089Z"
    },
    "tags": []
   },
   "outputs": [
    {
     "data": {
      "text/plain": [
       "22827"
      ]
     },
     "execution_count": 14,
     "metadata": {},
     "output_type": "execute_result"
    }
   ],
   "source": [
    "count = 0\n",
    "for item in train_data:\n",
    "    if item['input'] != item['target']:\n",
    "        count += 1\n",
    "count"
   ]
  },
  {
   "cell_type": "code",
   "execution_count": 15,
   "id": "aa7fed1b-fe4e-4308-a96e-b7cd192fad93",
   "metadata": {
    "execution": {
     "iopub.execute_input": "2022-10-24T02:13:26.699375Z",
     "iopub.status.busy": "2022-10-24T02:13:26.699142Z",
     "iopub.status.idle": "2022-10-24T02:13:26.705928Z",
     "shell.execute_reply": "2022-10-24T02:13:26.705018Z",
     "shell.execute_reply.started": "2022-10-24T02:13:26.699347Z"
    },
    "tags": []
   },
   "outputs": [
    {
     "data": {
      "text/plain": [
       "0.9440446650124069"
      ]
     },
     "execution_count": 15,
     "metadata": {},
     "output_type": "execute_result"
    }
   ],
   "source": [
    "count/len(train_data)"
   ]
  }
 ],
 "metadata": {
  "kernelspec": {
   "display_name": "myenv",
   "language": "python",
   "name": "python3"
  },
  "language_info": {
   "codemirror_mode": {
    "name": "ipython",
    "version": 3
   },
   "file_extension": ".py",
   "mimetype": "text/x-python",
   "name": "python",
   "nbconvert_exporter": "python",
   "pygments_lexer": "ipython3",
   "version": "3.7.11"
  },
  "vscode": {
   "interpreter": {
    "hash": "3ce02081ddc868412bff8365acf1b85cd5e3e8ca37b88a35786bac67dc721806"
   }
  }
 },
 "nbformat": 4,
 "nbformat_minor": 5
}
