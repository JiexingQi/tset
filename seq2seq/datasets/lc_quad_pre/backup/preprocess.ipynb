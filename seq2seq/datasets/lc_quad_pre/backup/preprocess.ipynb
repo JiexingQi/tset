{
 "cells": [
  {
   "cell_type": "code",
   "execution_count": 13,
   "id": "e950c143-c601-4113-931a-cb25f528c77e",
   "metadata": {
    "execution": {
     "iopub.execute_input": "2022-10-21T06:36:21.904847Z",
     "iopub.status.busy": "2022-10-21T06:36:21.904558Z",
     "iopub.status.idle": "2022-10-21T06:36:21.913327Z",
     "shell.execute_reply": "2022-10-21T06:36:21.912522Z",
     "shell.execute_reply.started": "2022-10-21T06:36:21.904815Z"
    },
    "tags": []
   },
   "outputs": [],
   "source": [
    "import os\n",
    "import re\n",
    "import json\n",
    "from tqdm import tqdm"
   ]
  },
  {
   "cell_type": "code",
   "execution_count": 4,
   "id": "6cb1ff7a-746b-439e-bd9f-914e430f6a3e",
   "metadata": {
    "execution": {
     "iopub.execute_input": "2022-10-21T06:33:48.800490Z",
     "iopub.status.busy": "2022-10-21T06:33:48.800194Z",
     "iopub.status.idle": "2022-10-21T06:33:48.874471Z",
     "shell.execute_reply": "2022-10-21T06:33:48.873829Z",
     "shell.execute_reply.started": "2022-10-21T06:33:48.800457Z"
    },
    "tags": []
   },
   "outputs": [],
   "source": [
    "data = json.load(open('../../../transform/transformers_cache/downloads/LC-QuAD2.0-pre/dataset/test.json', 'rb'))"
   ]
  },
  {
   "cell_type": "code",
   "execution_count": 17,
   "id": "73ea9ec3-b033-4f36-a91f-d2afcefbc96b",
   "metadata": {
    "execution": {
     "iopub.execute_input": "2022-10-21T06:36:55.827164Z",
     "iopub.status.busy": "2022-10-21T06:36:55.826728Z",
     "iopub.status.idle": "2022-10-21T06:36:55.899827Z",
     "shell.execute_reply": "2022-10-21T06:36:55.897153Z",
     "shell.execute_reply.started": "2022-10-21T06:36:55.827124Z"
    },
    "tags": []
   },
   "outputs": [],
   "source": [
    "pre = Preprocess()"
   ]
  },
  {
   "cell_type": "code",
   "execution_count": 18,
   "id": "8cea2412-1f97-4f15-b669-06fcaa9924dd",
   "metadata": {
    "execution": {
     "iopub.execute_input": "2022-10-21T06:36:57.001024Z",
     "iopub.status.busy": "2022-10-21T06:36:57.000716Z",
     "iopub.status.idle": "2022-10-21T06:36:58.496103Z",
     "shell.execute_reply": "2022-10-21T06:36:58.495264Z",
     "shell.execute_reply.started": "2022-10-21T06:36:57.000992Z"
    },
    "tags": []
   },
   "outputs": [
    {
     "name": "stderr",
     "output_type": "stream",
     "text": [
      "100%|██████████| 6046/6046 [00:01<00:00, 4077.93it/s]\n"
     ]
    }
   ],
   "source": [
    "for item in tqdm(data):\n",
    "    res = pre._preprocess(item)"
   ]
  },
  {
   "cell_type": "code",
   "execution_count": 19,
   "id": "76b3d9e3-bb31-43ca-8655-0c7ca3ab6145",
   "metadata": {
    "execution": {
     "iopub.execute_input": "2022-10-21T06:37:02.753094Z",
     "iopub.status.busy": "2022-10-21T06:37:02.752738Z",
     "iopub.status.idle": "2022-10-21T06:37:02.760346Z",
     "shell.execute_reply": "2022-10-21T06:37:02.759518Z",
     "shell.execute_reply.started": "2022-10-21T06:37:02.753059Z"
    },
    "tags": []
   },
   "outputs": [
    {
     "data": {
      "text/plain": [
       "{'input_sparql': 'select distinct ?vr0 where { wd: manticore wdt: Theoi Project ID ?vr0 }',\n",
       " 'input_process': '<extra_id_6> <extra_id_21> <extra_id_39> <extra_id_19> <extra_id_33> <extra_id_53> manticore <extra_id_54> <extra_id_59> project id <extra_id_39> <extra_id_15>',\n",
       " 'target_sparql': 'select distinct ?vr0 where { wd: manticore wdt: Theoi Project ID ?vr0 }',\n",
       " 'target_process': '<extra_id_6> <extra_id_21> <extra_id_39> <extra_id_19> <extra_id_33> <extra_id_53> manticore <extra_id_54> <extra_id_59> project id <extra_id_39> <extra_id_15>'}"
      ]
     },
     "execution_count": 19,
     "metadata": {},
     "output_type": "execute_result"
    }
   ],
   "source": [
    "res"
   ]
  },
  {
   "cell_type": "code",
   "execution_count": 16,
   "id": "a964654f-610c-4957-917b-123b63fce210",
   "metadata": {
    "execution": {
     "iopub.execute_input": "2022-10-21T06:36:52.905693Z",
     "iopub.status.busy": "2022-10-21T06:36:52.905400Z",
     "iopub.status.idle": "2022-10-21T06:36:53.016154Z",
     "shell.execute_reply": "2022-10-21T06:36:53.014731Z",
     "shell.execute_reply.started": "2022-10-21T06:36:52.905660Z"
    },
    "tags": []
   },
   "outputs": [],
   "source": [
    "class Preprocess(object):\n",
    "    def __init__(self):\n",
    "        \n",
    "        path = './'\n",
    "        ent_labels = json.load(open(os.path.join(path, 'entities.json'), 'rb'))\n",
    "        rel_labels = json.load(open(os.path.join(path, 'relations.json'), 'rb'))\n",
    "        \n",
    "        vocab=['\"', '(', 'rdfs:label', 'by', 'ask', '>', 'select', 'que', 'limit', 'jai', 'mai', \n",
    "        '?sbj', ')', 'lang', 'year', '}', '?value', 'peint', 'desc', 'where', 'ce', 'distinct', \n",
    "       'filter', 'lcase', 'order', 'la', '<', 'asc', 'en', 'contains', 'as', ',', 'strstarts', \n",
    "       '{', \"'\", 'j', 'count', '=', '.', '?vr0', '?vr1', '?vr2', '?vr3', '?vr4', '?vr5', '?vr6', \n",
    "       '?vr0_label', '?vr1_label', '?vr2_label', '?vr3_label', '?vr4_label', '?vr5_label', '?vr6_label',\n",
    "       'wd:', 'wdt:', 'ps:', 'p:', 'pq:', '?maskvar1','null']\n",
    "\n",
    "        vocab_dict={}\n",
    "        for i,text in enumerate(vocab):\n",
    "            vocab_dict[text]='<extra_id_'+str(i)+'>'\n",
    "\n",
    "        for kk in ent_labels:\n",
    "            if ent_labels[kk] is None: ent_labels[kk] = vocab_dict['null']\n",
    "\n",
    "        self.ent_labels = ent_labels\n",
    "        self.rel_labels = rel_labels\n",
    "        self.vocab_dict = vocab_dict\n",
    "\n",
    "    \n",
    "    def process(self, wikisparql):\n",
    "        sparql = wikisparql.replace('(',' ( ').replace(')',' ) ').replace('{',' { ')\\\n",
    "        .replace('}',' } ').replace(':',': ').replace(',',' , ').replace(\"'\",\" ' \")\\\n",
    "        .replace('.',' . ').replace('=',' = ').lower()\n",
    "        sparql = ' '.join(sparql.split())\n",
    "        \n",
    "        _ents = re.findall( r'wd: (?:.*?) ', sparql)\n",
    "        _ents_for_labels = re.findall( r'wd: (q.*?) ', sparql)\n",
    "        \n",
    "        _rels = re.findall( r'wdt: (?:.*?) ',sparql)\n",
    "        _rels += re.findall( r' p: (?:.*?) ',sparql)\n",
    "        _rels += re.findall( r' ps: (?:.*?) ',sparql)\n",
    "        _rels += re.findall( r'pq: (?:.*?) ',sparql)\n",
    "        \n",
    "        _rels_for_labels = re.findall( r'wdt: (.*?) ',sparql)\n",
    "        _rels_for_labels += re.findall( r' p: (.*?) ',sparql)\n",
    "        _rels_for_labels += re.findall( r' ps: (.*?) ',sparql)\n",
    "        _rels_for_labels += re.findall( r'pq: (.*?) ',sparql)\n",
    "\n",
    "        # for j in range(len(_ents_for_labels)):\n",
    "        #     if '}' in _ents[j]: \n",
    "        #         _ents[j]=''\n",
    "        #     _ents[j] = _ents[j] + self.ent_labels[_ents_for_labels[j]]+' '\n",
    "            \n",
    "        for j in range(len(_rels_for_labels)):\n",
    "            if _rels_for_labels[j] not in self.rel_labels:\n",
    "                self.rel_labels[_rels_for_labels[j]] = self.vocab_dict['null']\n",
    "            _rels[j] = _rels[j] + self.rel_labels[_rels_for_labels[j]]+' '\n",
    "    \n",
    "            \n",
    "        split = sparql.split()\n",
    "        for idx, item in enumerate(split):\n",
    "            if item in self.ent_labels:\n",
    "                split[idx] = self.ent_labels[item]\n",
    "            elif item in self.rel_labels:\n",
    "                split[idx] = self.rel_labels[item]\n",
    "\n",
    "            if item in self.vocab_dict:\n",
    "                split[idx] = self.vocab_dict[item]\n",
    "        \n",
    "        gold_query = ' '.join(split).strip()\n",
    "        \n",
    "        return gold_query\n",
    "        \n",
    "    def _preprocess(self, data):\n",
    "        res = { 'input_sparql': data['input'],\n",
    "                'input_process': self.process(data['input']),\n",
    "                'target_sparql': data['target'],\n",
    "                'target_process': self.process(data['target']),\n",
    "               }\n",
    "\n",
    "        return res"
   ]
  },
  {
   "cell_type": "code",
   "execution_count": 3,
   "id": "2638d45f-c961-4787-8dd4-776c157acc28",
   "metadata": {
    "execution": {
     "iopub.execute_input": "2022-10-10T06:28:37.708075Z",
     "iopub.status.busy": "2022-10-10T06:28:37.707413Z",
     "iopub.status.idle": "2022-10-10T06:28:37.728453Z",
     "shell.execute_reply": "2022-10-10T06:28:37.727761Z",
     "shell.execute_reply.started": "2022-10-10T06:28:37.708004Z"
    },
    "tags": []
   },
   "outputs": [],
   "source": [
    "test_data = json.load(open('../../../transform/transformers_cache/downloads/LC-QuAD2.0-pre/dataset/test.json', 'rb'))"
   ]
  },
  {
   "cell_type": "code",
   "execution_count": 4,
   "id": "79b25806-d8d4-43bc-8657-800a11ad5fcf",
   "metadata": {
    "execution": {
     "iopub.execute_input": "2022-10-10T06:28:37.730402Z",
     "iopub.status.busy": "2022-10-10T06:28:37.730106Z",
     "iopub.status.idle": "2022-10-10T06:28:37.799569Z",
     "shell.execute_reply": "2022-10-10T06:28:37.798861Z",
     "shell.execute_reply.started": "2022-10-10T06:28:37.730374Z"
    },
    "tags": []
   },
   "outputs": [],
   "source": [
    "train_data = json.load(open('../../../transform/transformers_cache/downloads/LC-QuAD2.0-pre/dataset/train.json', 'rb'))"
   ]
  },
  {
   "cell_type": "code",
   "execution_count": 5,
   "id": "09b883c9-0010-47b8-95e2-f9536e0fda73",
   "metadata": {
    "execution": {
     "iopub.execute_input": "2022-10-10T06:28:38.700124Z",
     "iopub.status.busy": "2022-10-10T06:28:38.699741Z",
     "iopub.status.idle": "2022-10-10T06:28:38.732386Z",
     "shell.execute_reply": "2022-10-10T06:28:38.731648Z",
     "shell.execute_reply.started": "2022-10-10T06:28:38.700093Z"
    },
    "tags": []
   },
   "outputs": [],
   "source": [
    "pre = Preprocess()"
   ]
  },
  {
   "cell_type": "code",
   "execution_count": 7,
   "id": "ef63742f-d679-460e-ac0a-b44286dca5df",
   "metadata": {
    "execution": {
     "iopub.execute_input": "2022-10-10T06:28:47.822444Z",
     "iopub.status.busy": "2022-10-10T06:28:47.822019Z",
     "iopub.status.idle": "2022-10-10T06:28:48.145349Z",
     "shell.execute_reply": "2022-10-10T06:28:48.144672Z",
     "shell.execute_reply.started": "2022-10-10T06:28:47.822415Z"
    },
    "scrolled": true,
    "tags": []
   },
   "outputs": [],
   "source": [
    "for item in test_data:\n",
    "    res = pre._preprocess(item)"
   ]
  },
  {
   "cell_type": "code",
   "execution_count": 14,
   "id": "af4d4a94-bbb8-40da-a715-fd8ce1c2c10a",
   "metadata": {
    "execution": {
     "iopub.execute_input": "2022-10-10T06:15:01.314994Z",
     "iopub.status.busy": "2022-10-10T06:15:01.314633Z",
     "iopub.status.idle": "2022-10-10T06:15:01.319839Z",
     "shell.execute_reply": "2022-10-10T06:15:01.319255Z",
     "shell.execute_reply.started": "2022-10-10T06:15:01.314964Z"
    },
    "tags": []
   },
   "outputs": [
    {
     "data": {
      "text/plain": [
       "{'input': 'select ?vr0 where { ?vr0 wdt:p19 wd:q36970 . wd: wdt:p1813 ?vr0}',\n",
       " 'target': 'select ?vr0 where { wd:q36970 wdt:p19 ?vr0 . ?vr0 wdt:p1813 wd:}'}"
      ]
     },
     "execution_count": 14,
     "metadata": {},
     "output_type": "execute_result"
    }
   ],
   "source": [
    "item"
   ]
  },
  {
   "cell_type": "code",
   "execution_count": 19,
   "id": "ba435f94-5228-4516-849a-847d45e967a7",
   "metadata": {
    "execution": {
     "iopub.execute_input": "2022-10-10T06:25:39.849067Z",
     "iopub.status.busy": "2022-10-10T06:25:39.848517Z",
     "iopub.status.idle": "2022-10-10T06:25:39.863039Z",
     "shell.execute_reply": "2022-10-10T06:25:39.862439Z",
     "shell.execute_reply.started": "2022-10-10T06:25:39.848999Z"
    },
    "tags": []
   },
   "outputs": [
    {
     "data": {
      "text/plain": [
       "'select ?vr0 where { ?vr0 wdt: p19 wd: q36970 . wd: wdt: p1813 ?vr0 }'"
      ]
     },
     "execution_count": 19,
     "metadata": {},
     "output_type": "execute_result"
    }
   ],
   "source": [
    "sparql = item['input'].replace('(',' ( ').replace(')',' ) ').replace('{',' { ')\\\n",
    "    .replace('}',' } ').replace(':',': ').replace(',',' , ').replace(\"'\",\" ' \")\\\n",
    "    .replace('.',' . ').replace('=',' = ').lower()\n",
    "sparql = ' '.join(sparql.split())\n",
    "sparql        "
   ]
  },
  {
   "cell_type": "code",
   "execution_count": null,
   "id": "90a9cd26-659a-4f00-a57c-50993b5154f3",
   "metadata": {},
   "outputs": [],
   "source": [
    "_ents = re.findall( r'wd: (?:.*?) ', sparql)\n",
    "_ents_for_labels = re.findall( r'wd: (.*?) ', sparql)\n",
    "        print(_ents)\n",
    "        print(_ents_for_labels)"
   ]
  },
  {
   "cell_type": "code",
   "execution_count": 25,
   "id": "73d26698-f491-4f75-b7ce-606b6aeb4a43",
   "metadata": {
    "execution": {
     "iopub.execute_input": "2022-10-10T06:27:29.983089Z",
     "iopub.status.busy": "2022-10-10T06:27:29.982395Z",
     "iopub.status.idle": "2022-10-10T06:27:30.127819Z",
     "shell.execute_reply": "2022-10-10T06:27:30.126966Z",
     "shell.execute_reply.started": "2022-10-10T06:27:29.983021Z"
    },
    "tags": []
   },
   "outputs": [
    {
     "ename": "error",
     "evalue": "unknown extension ?. at position 5",
     "output_type": "error",
     "traceback": [
      "\u001b[0;31m---------------------------------------------------------------------------\u001b[0m",
      "\u001b[0;31merror\u001b[0m                                     Traceback (most recent call last)",
      "\u001b[0;32m/tmp/ipykernel_2548627/2658471855.py\u001b[0m in \u001b[0;36m<module>\u001b[0;34m\u001b[0m\n\u001b[0;32m----> 1\u001b[0;31m \u001b[0mre\u001b[0m\u001b[0;34m.\u001b[0m\u001b[0mfindall\u001b[0m\u001b[0;34m(\u001b[0m \u001b[0;34mr'wd: (?.*?) '\u001b[0m\u001b[0;34m,\u001b[0m \u001b[0msparql\u001b[0m\u001b[0;34m)\u001b[0m\u001b[0;34m\u001b[0m\u001b[0;34m\u001b[0m\u001b[0m\n\u001b[0m",
      "\u001b[0;32m~/anaconda3/envs/python37/lib/python3.7/re.py\u001b[0m in \u001b[0;36mfindall\u001b[0;34m(pattern, string, flags)\u001b[0m\n\u001b[1;32m    223\u001b[0m \u001b[0;34m\u001b[0m\u001b[0m\n\u001b[1;32m    224\u001b[0m     Empty matches are included in the result.\"\"\"\n\u001b[0;32m--> 225\u001b[0;31m     \u001b[0;32mreturn\u001b[0m \u001b[0m_compile\u001b[0m\u001b[0;34m(\u001b[0m\u001b[0mpattern\u001b[0m\u001b[0;34m,\u001b[0m \u001b[0mflags\u001b[0m\u001b[0;34m)\u001b[0m\u001b[0;34m.\u001b[0m\u001b[0mfindall\u001b[0m\u001b[0;34m(\u001b[0m\u001b[0mstring\u001b[0m\u001b[0;34m)\u001b[0m\u001b[0;34m\u001b[0m\u001b[0;34m\u001b[0m\u001b[0m\n\u001b[0m\u001b[1;32m    226\u001b[0m \u001b[0;34m\u001b[0m\u001b[0m\n\u001b[1;32m    227\u001b[0m \u001b[0;32mdef\u001b[0m \u001b[0mfinditer\u001b[0m\u001b[0;34m(\u001b[0m\u001b[0mpattern\u001b[0m\u001b[0;34m,\u001b[0m \u001b[0mstring\u001b[0m\u001b[0;34m,\u001b[0m \u001b[0mflags\u001b[0m\u001b[0;34m=\u001b[0m\u001b[0;36m0\u001b[0m\u001b[0;34m)\u001b[0m\u001b[0;34m:\u001b[0m\u001b[0;34m\u001b[0m\u001b[0;34m\u001b[0m\u001b[0m\n",
      "\u001b[0;32m~/anaconda3/envs/python37/lib/python3.7/re.py\u001b[0m in \u001b[0;36m_compile\u001b[0;34m(pattern, flags)\u001b[0m\n\u001b[1;32m    286\u001b[0m     \u001b[0;32mif\u001b[0m \u001b[0;32mnot\u001b[0m \u001b[0msre_compile\u001b[0m\u001b[0;34m.\u001b[0m\u001b[0misstring\u001b[0m\u001b[0;34m(\u001b[0m\u001b[0mpattern\u001b[0m\u001b[0;34m)\u001b[0m\u001b[0;34m:\u001b[0m\u001b[0;34m\u001b[0m\u001b[0;34m\u001b[0m\u001b[0m\n\u001b[1;32m    287\u001b[0m         \u001b[0;32mraise\u001b[0m \u001b[0mTypeError\u001b[0m\u001b[0;34m(\u001b[0m\u001b[0;34m\"first argument must be string or compiled pattern\"\u001b[0m\u001b[0;34m)\u001b[0m\u001b[0;34m\u001b[0m\u001b[0;34m\u001b[0m\u001b[0m\n\u001b[0;32m--> 288\u001b[0;31m     \u001b[0mp\u001b[0m \u001b[0;34m=\u001b[0m \u001b[0msre_compile\u001b[0m\u001b[0;34m.\u001b[0m\u001b[0mcompile\u001b[0m\u001b[0;34m(\u001b[0m\u001b[0mpattern\u001b[0m\u001b[0;34m,\u001b[0m \u001b[0mflags\u001b[0m\u001b[0;34m)\u001b[0m\u001b[0;34m\u001b[0m\u001b[0;34m\u001b[0m\u001b[0m\n\u001b[0m\u001b[1;32m    289\u001b[0m     \u001b[0;32mif\u001b[0m \u001b[0;32mnot\u001b[0m \u001b[0;34m(\u001b[0m\u001b[0mflags\u001b[0m \u001b[0;34m&\u001b[0m \u001b[0mDEBUG\u001b[0m\u001b[0;34m)\u001b[0m\u001b[0;34m:\u001b[0m\u001b[0;34m\u001b[0m\u001b[0;34m\u001b[0m\u001b[0m\n\u001b[1;32m    290\u001b[0m         \u001b[0;32mif\u001b[0m \u001b[0mlen\u001b[0m\u001b[0;34m(\u001b[0m\u001b[0m_cache\u001b[0m\u001b[0;34m)\u001b[0m \u001b[0;34m>=\u001b[0m \u001b[0m_MAXCACHE\u001b[0m\u001b[0;34m:\u001b[0m\u001b[0;34m\u001b[0m\u001b[0;34m\u001b[0m\u001b[0m\n",
      "\u001b[0;32m~/anaconda3/envs/python37/lib/python3.7/sre_compile.py\u001b[0m in \u001b[0;36mcompile\u001b[0;34m(p, flags)\u001b[0m\n\u001b[1;32m    762\u001b[0m     \u001b[0;32mif\u001b[0m \u001b[0misstring\u001b[0m\u001b[0;34m(\u001b[0m\u001b[0mp\u001b[0m\u001b[0;34m)\u001b[0m\u001b[0;34m:\u001b[0m\u001b[0;34m\u001b[0m\u001b[0;34m\u001b[0m\u001b[0m\n\u001b[1;32m    763\u001b[0m         \u001b[0mpattern\u001b[0m \u001b[0;34m=\u001b[0m \u001b[0mp\u001b[0m\u001b[0;34m\u001b[0m\u001b[0;34m\u001b[0m\u001b[0m\n\u001b[0;32m--> 764\u001b[0;31m         \u001b[0mp\u001b[0m \u001b[0;34m=\u001b[0m \u001b[0msre_parse\u001b[0m\u001b[0;34m.\u001b[0m\u001b[0mparse\u001b[0m\u001b[0;34m(\u001b[0m\u001b[0mp\u001b[0m\u001b[0;34m,\u001b[0m \u001b[0mflags\u001b[0m\u001b[0;34m)\u001b[0m\u001b[0;34m\u001b[0m\u001b[0;34m\u001b[0m\u001b[0m\n\u001b[0m\u001b[1;32m    765\u001b[0m     \u001b[0;32melse\u001b[0m\u001b[0;34m:\u001b[0m\u001b[0;34m\u001b[0m\u001b[0;34m\u001b[0m\u001b[0m\n\u001b[1;32m    766\u001b[0m         \u001b[0mpattern\u001b[0m \u001b[0;34m=\u001b[0m \u001b[0;32mNone\u001b[0m\u001b[0;34m\u001b[0m\u001b[0;34m\u001b[0m\u001b[0m\n",
      "\u001b[0;32m~/anaconda3/envs/python37/lib/python3.7/sre_parse.py\u001b[0m in \u001b[0;36mparse\u001b[0;34m(str, flags, pattern)\u001b[0m\n\u001b[1;32m    922\u001b[0m \u001b[0;34m\u001b[0m\u001b[0m\n\u001b[1;32m    923\u001b[0m     \u001b[0;32mtry\u001b[0m\u001b[0;34m:\u001b[0m\u001b[0;34m\u001b[0m\u001b[0;34m\u001b[0m\u001b[0m\n\u001b[0;32m--> 924\u001b[0;31m         \u001b[0mp\u001b[0m \u001b[0;34m=\u001b[0m \u001b[0m_parse_sub\u001b[0m\u001b[0;34m(\u001b[0m\u001b[0msource\u001b[0m\u001b[0;34m,\u001b[0m \u001b[0mpattern\u001b[0m\u001b[0;34m,\u001b[0m \u001b[0mflags\u001b[0m \u001b[0;34m&\u001b[0m \u001b[0mSRE_FLAG_VERBOSE\u001b[0m\u001b[0;34m,\u001b[0m \u001b[0;36m0\u001b[0m\u001b[0;34m)\u001b[0m\u001b[0;34m\u001b[0m\u001b[0;34m\u001b[0m\u001b[0m\n\u001b[0m\u001b[1;32m    925\u001b[0m     \u001b[0;32mexcept\u001b[0m \u001b[0mVerbose\u001b[0m\u001b[0;34m:\u001b[0m\u001b[0;34m\u001b[0m\u001b[0;34m\u001b[0m\u001b[0m\n\u001b[1;32m    926\u001b[0m         \u001b[0;31m# the VERBOSE flag was switched on inside the pattern.  to be\u001b[0m\u001b[0;34m\u001b[0m\u001b[0;34m\u001b[0m\u001b[0;34m\u001b[0m\u001b[0m\n",
      "\u001b[0;32m~/anaconda3/envs/python37/lib/python3.7/sre_parse.py\u001b[0m in \u001b[0;36m_parse_sub\u001b[0;34m(source, state, verbose, nested)\u001b[0m\n\u001b[1;32m    418\u001b[0m     \u001b[0;32mwhile\u001b[0m \u001b[0;32mTrue\u001b[0m\u001b[0;34m:\u001b[0m\u001b[0;34m\u001b[0m\u001b[0;34m\u001b[0m\u001b[0m\n\u001b[1;32m    419\u001b[0m         itemsappend(_parse(source, state, verbose, nested + 1,\n\u001b[0;32m--> 420\u001b[0;31m                            not nested and not items))\n\u001b[0m\u001b[1;32m    421\u001b[0m         \u001b[0;32mif\u001b[0m \u001b[0;32mnot\u001b[0m \u001b[0msourcematch\u001b[0m\u001b[0;34m(\u001b[0m\u001b[0;34m\"|\"\u001b[0m\u001b[0;34m)\u001b[0m\u001b[0;34m:\u001b[0m\u001b[0;34m\u001b[0m\u001b[0;34m\u001b[0m\u001b[0m\n\u001b[1;32m    422\u001b[0m             \u001b[0;32mbreak\u001b[0m\u001b[0;34m\u001b[0m\u001b[0;34m\u001b[0m\u001b[0m\n",
      "\u001b[0;32m~/anaconda3/envs/python37/lib/python3.7/sre_parse.py\u001b[0m in \u001b[0;36m_parse\u001b[0;34m(source, state, verbose, nested, first)\u001b[0m\n\u001b[1;32m    798\u001b[0m                 \u001b[0;32melse\u001b[0m\u001b[0;34m:\u001b[0m\u001b[0;34m\u001b[0m\u001b[0;34m\u001b[0m\u001b[0m\n\u001b[1;32m    799\u001b[0m                     raise source.error(\"unknown extension ?\" + char,\n\u001b[0;32m--> 800\u001b[0;31m                                        len(char) + 1)\n\u001b[0m\u001b[1;32m    801\u001b[0m \u001b[0;34m\u001b[0m\u001b[0m\n\u001b[1;32m    802\u001b[0m             \u001b[0;31m# parse group contents\u001b[0m\u001b[0;34m\u001b[0m\u001b[0;34m\u001b[0m\u001b[0;34m\u001b[0m\u001b[0m\n",
      "\u001b[0;31merror\u001b[0m: unknown extension ?. at position 5"
     ]
    }
   ],
   "source": [
    "re.findall( r'wd: (?.*?) ', sparql)"
   ]
  }
 ],
 "metadata": {
  "kernelspec": {
   "display_name": "Python [conda env:python37] *",
   "language": "python",
   "name": "conda-env-python37-py"
  },
  "language_info": {
   "codemirror_mode": {
    "name": "ipython",
    "version": 3
   },
   "file_extension": ".py",
   "mimetype": "text/x-python",
   "name": "python",
   "nbconvert_exporter": "python",
   "pygments_lexer": "ipython3",
   "version": "3.7.11"
  }
 },
 "nbformat": 4,
 "nbformat_minor": 5
}
