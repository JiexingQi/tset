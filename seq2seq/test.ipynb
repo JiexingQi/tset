{
 "cells": [
  {
   "cell_type": "code",
   "execution_count": 1,
   "id": "9dd5ebfe-6d2e-4817-86a2-14f312d46501",
   "metadata": {
    "execution": {
     "iopub.execute_input": "2022-09-14T09:32:24.372951Z",
     "iopub.status.busy": "2022-09-14T09:32:24.372561Z",
     "iopub.status.idle": "2022-09-14T09:32:24.383058Z",
     "shell.execute_reply": "2022-09-14T09:32:24.382285Z",
     "shell.execute_reply.started": "2022-09-14T09:32:24.372851Z"
    },
    "tags": []
   },
   "outputs": [],
   "source": [
    "import sys\n",
    "dir_path='/home/wlw2021/project/text2sparql/semantic/input_test'\n",
    "sys.path.append(dir_path)"
   ]
  },
  {
   "cell_type": "code",
   "execution_count": null,
   "id": "b0182799-c83c-4b4d-b595-5cb01bf34c5c",
   "metadata": {},
   "outputs": [],
   "source": [
    "predictions_eval_651.5925925925926.json"
   ]
  },
  {
   "cell_type": "code",
   "execution_count": 2,
   "id": "a43d6505-a1fb-4ad1-bdc6-3146cdfb3097",
   "metadata": {
    "execution": {
     "iopub.execute_input": "2022-09-14T09:32:24.384540Z",
     "iopub.status.busy": "2022-09-14T09:32:24.384353Z",
     "iopub.status.idle": "2022-09-14T09:32:29.757932Z",
     "shell.execute_reply": "2022-09-14T09:32:29.757168Z",
     "shell.execute_reply.started": "2022-09-14T09:32:24.384515Z"
    },
    "tags": []
   },
   "outputs": [],
   "source": [
    "import re\n",
    "import json\n",
    "from pprint import pprint\n",
    "from tqdm import tqdm\n",
    "from seq2seq.datasets.lc_quad_2.preprocess_test import Preprocess\n",
    "from seq2seq.datasets.lc_quad_2.postprocess import change\n",
    "# from seq2seq.relation_infusion.get_relation_name import Relation_Name\n",
    "# from seq2seq.relation_infusion.get_relation_mat import Relation_Id"
   ]
  },
  {
   "cell_type": "code",
   "execution_count": 3,
   "id": "10f64b9f-98cb-4a8d-9c28-92e364055d94",
   "metadata": {
    "execution": {
     "iopub.execute_input": "2022-09-14T09:32:29.760392Z",
     "iopub.status.busy": "2022-09-14T09:32:29.760016Z",
     "iopub.status.idle": "2022-09-14T09:32:29.765312Z",
     "shell.execute_reply": "2022-09-14T09:32:29.764621Z",
     "shell.execute_reply.started": "2022-09-14T09:32:29.760361Z"
    },
    "tags": []
   },
   "outputs": [],
   "source": [
    "raw_data =  {\n",
    "        \"NNQT_question\": \"Did {Jeff_Bridges} {occupation} {Lane Chandler} and {photographer} ?\",\n",
    "        \"question\": \"Is it true Jeff_Bridges occupation Lane Chandler and photographer ?\",\n",
    "        \"sparql_wikidata\": \"ASK WHERE { wd:Q174843 wdt:P106 wd:Q1804811 . wd:Q174843 wdt:P106 wd:Q33231 }\",\n",
    "}"
   ]
  },
  {
   "cell_type": "code",
   "execution_count": 4,
   "id": "13fa692b-9902-4b4a-9f45-36c7b0bf2236",
   "metadata": {
    "execution": {
     "iopub.execute_input": "2022-09-14T09:32:29.766765Z",
     "iopub.status.busy": "2022-09-14T09:32:29.766538Z",
     "iopub.status.idle": "2022-09-14T09:32:29.797353Z",
     "shell.execute_reply": "2022-09-14T09:32:29.796652Z",
     "shell.execute_reply.started": "2022-09-14T09:32:29.766733Z"
    },
    "scrolled": true,
    "tags": []
   },
   "outputs": [],
   "source": [
    "pre = Preprocess()\n",
    "data = pre._preprocess(raw_data)"
   ]
  },
  {
   "cell_type": "code",
   "execution_count": 5,
   "id": "2271eef6-6caa-47c8-a32f-e5ca2937bd93",
   "metadata": {
    "execution": {
     "iopub.execute_input": "2022-09-14T09:32:29.798618Z",
     "iopub.status.busy": "2022-09-14T09:32:29.798422Z",
     "iopub.status.idle": "2022-09-14T09:32:29.805206Z",
     "shell.execute_reply": "2022-09-14T09:32:29.803845Z",
     "shell.execute_reply.started": "2022-09-14T09:32:29.798593Z"
    },
    "tags": []
   },
   "outputs": [
    {
     "name": "stdout",
     "output_type": "stream",
     "text": [
      "raw_question: Is it true Jeff_Bridges occupation Lane Chandler and photographer ?\n",
      "\n",
      "question_input:  Is it true Jeff_Bridges occupation Lane Chandler and photographer ? <extra_id_60> <extra_id_53> Jeff Bridges <extra_id_60> <extra_id_53> Lane Chandler <extra_id_60> <extra_id_53> Jeff Bridges <extra_id_60> <extra_id_53> photographer <extra_id_61> <extra_id_54> occupation <extra_id_61> <extra_id_54> occupation\n",
      "\n",
      "label:  <extra_id_4> <extra_id_19> <extra_id_33> <extra_id_53> Jeff Bridges <extra_id_54> occupation <extra_id_53> Lane Chandler <extra_id_38> <extra_id_53> Jeff Bridges <extra_id_54> occupation <extra_id_53> photographer <extra_id_15>\n"
     ]
    }
   ],
   "source": [
    "print('raw_question:', data['raw_question'])\n",
    "print()\n",
    "print('question_input: ', data['question_process'])\n",
    "print()\n",
    "print('label: ', data['sparql_process'])"
   ]
  },
  {
   "cell_type": "code",
   "execution_count": null,
   "id": "ceb75501-894c-434d-a771-4ceab6091d19",
   "metadata": {
    "tags": []
   },
   "outputs": [],
   "source": []
  },
  {
   "cell_type": "code",
   "execution_count": 6,
   "id": "a2070b84-63ec-4e37-91b4-1140e8ab6cf9",
   "metadata": {
    "execution": {
     "iopub.execute_input": "2022-09-14T09:32:29.807223Z",
     "iopub.status.busy": "2022-09-14T09:32:29.807033Z",
     "iopub.status.idle": "2022-09-14T09:32:29.813817Z",
     "shell.execute_reply": "2022-09-14T09:32:29.813147Z",
     "shell.execute_reply.started": "2022-09-14T09:32:29.807198Z"
    },
    "tags": []
   },
   "outputs": [
    {
     "name": "stdout",
     "output_type": "stream",
     "text": [
      "raw_question: Is it true Jeff_Bridges occupation Lane Chandler and photographer ?\n",
      "\n",
      "question_input:  Is it true Jeff_Bridges occupation Lane Chandler and photographer ? [Entity] wd:Jeff Bridges [Entity] wd:Lane Chandler [Entity] wd:Jeff Bridges [Entity] wd:photographer [Relation] wdt:occupation [Relation] wdt:occupation\n",
      "\n",
      "label:  ask where {wd:Jeff Bridges wdt:occupation wd:Lane Chandler . wd:Jeff Bridges wdt:occupation wd:photographer}\n"
     ]
    }
   ],
   "source": [
    "print('raw_question:', change(data['raw_question']))\n",
    "print()\n",
    "print('question_input: ', change(data['question_process']))\n",
    "print()\n",
    "print('label: ', change(data['sparql_process']))"
   ]
  },
  {
   "cell_type": "code",
   "execution_count": null,
   "id": "15b0d827-502f-495e-b6c5-4a352289b76c",
   "metadata": {},
   "outputs": [],
   "source": []
  },
  {
   "cell_type": "code",
   "execution_count": null,
   "id": "38b7409d-f6c0-4bba-bcee-7cd24352c198",
   "metadata": {},
   "outputs": [],
   "source": []
  },
  {
   "cell_type": "code",
   "execution_count": null,
   "id": "f0a00744-1535-42d9-b752-fef586b0b4ba",
   "metadata": {},
   "outputs": [],
   "source": []
  },
  {
   "cell_type": "code",
   "execution_count": null,
   "id": "9579328e-d37e-4802-ab5f-30c1e0fe80b3",
   "metadata": {},
   "outputs": [],
   "source": []
  },
  {
   "cell_type": "code",
   "execution_count": 3,
   "id": "30181dff-f490-413b-b583-83b321e00fd4",
   "metadata": {
    "execution": {
     "iopub.execute_input": "2022-09-07T04:30:54.283558Z",
     "iopub.status.busy": "2022-09-07T04:30:54.282663Z",
     "iopub.status.idle": "2022-09-07T04:31:13.945904Z",
     "shell.execute_reply": "2022-09-07T04:31:13.943524Z",
     "shell.execute_reply.started": "2022-09-07T04:30:54.283506Z"
    },
    "scrolled": true,
    "tags": []
   },
   "outputs": [
    {
     "data": {
      "application/vnd.jupyter.widget-view+json": {
       "model_id": "1959050e7d604d5a8248f47de1f251e6",
       "version_major": 2,
       "version_minor": 0
      },
      "text/plain": [
       "Downloading https://raw.githubusercontent.com/stanfordnlp/stanza-resources/main/resources_1.4.0.json:   0%|   …"
      ]
     },
     "metadata": {},
     "output_type": "display_data"
    },
    {
     "name": "stderr",
     "output_type": "stream",
     "text": [
      "2022-09-07 12:30:55 WARNING: Can not find mwt: default from official model list. Ignoring it.\n",
      "2022-09-07 12:30:55 INFO: Loading these models for language: en (English):\n",
      "========================\n",
      "| Processor | Package  |\n",
      "------------------------\n",
      "| tokenize  | combined |\n",
      "| pos       | combined |\n",
      "| lemma     | combined |\n",
      "| depparse  | combined |\n",
      "========================\n",
      "\n",
      "2022-09-07 12:30:55 INFO: Use device: gpu\n",
      "2022-09-07 12:30:55 INFO: Loading: tokenize\n",
      "2022-09-07 12:31:04 INFO: Loading: pos\n",
      "2022-09-07 12:31:05 INFO: Loading: lemma\n",
      "2022-09-07 12:31:05 INFO: Loading: depparse\n",
      "2022-09-07 12:31:06 INFO: Done loading processors!\n"
     ]
    }
   ],
   "source": [
    "get_id = Relation_Id()"
   ]
  },
  {
   "cell_type": "code",
   "execution_count": 4,
   "id": "7f78c599-0b18-4c14-9b41-8149036cbc07",
   "metadata": {
    "execution": {
     "iopub.execute_input": "2022-09-07T04:31:50.154279Z",
     "iopub.status.busy": "2022-09-07T04:31:50.153431Z",
     "iopub.status.idle": "2022-09-07T04:31:50.160470Z",
     "shell.execute_reply": "2022-09-07T04:31:50.159325Z",
     "shell.execute_reply.started": "2022-09-07T04:31:50.154227Z"
    },
    "tags": []
   },
   "outputs": [],
   "source": []
  },
  {
   "cell_type": "code",
   "execution_count": 5,
   "id": "849530ab-9b74-4d8e-a06a-85c8a5350d2c",
   "metadata": {
    "execution": {
     "iopub.execute_input": "2022-09-07T07:25:28.445130Z",
     "iopub.status.busy": "2022-09-07T07:25:28.444702Z",
     "iopub.status.idle": "2022-09-07T07:25:28.829808Z",
     "shell.execute_reply": "2022-09-07T07:25:28.828910Z",
     "shell.execute_reply.started": "2022-09-07T07:25:28.445093Z"
    },
    "tags": []
   },
   "outputs": [],
   "source": [
    "path = '../transform/transformers_cache/downloads/LC-QuAD2.0-master/dataset/'\n",
    "train = json.load(open(path+'train.json', 'rb'))\n",
    "test = json.load(open(path+'test.json', 'rb'))"
   ]
  },
  {
   "cell_type": "code",
   "execution_count": 9,
   "id": "e3bb38ce-591e-460d-b26b-cb54a1d2d4d8",
   "metadata": {
    "execution": {
     "iopub.execute_input": "2022-09-07T07:25:49.512347Z",
     "iopub.status.busy": "2022-09-07T07:25:49.511927Z",
     "iopub.status.idle": "2022-09-07T07:25:49.517360Z",
     "shell.execute_reply": "2022-09-07T07:25:49.516238Z",
     "shell.execute_reply.started": "2022-09-07T07:25:49.512308Z"
    },
    "scrolled": true,
    "tags": []
   },
   "outputs": [],
   "source": [
    "gold_query = data['sparql_process']\n",
    "question_input = data['question_process']\n",
    "question_tok = data['question_toks']\n",
    "raw_question = data['raw_question']"
   ]
  },
  {
   "cell_type": "code",
   "execution_count": 10,
   "id": "d1d715d2-4ca7-491d-b077-e5fd0955ef0d",
   "metadata": {
    "execution": {
     "iopub.execute_input": "2022-09-07T07:25:51.947535Z",
     "iopub.status.busy": "2022-09-07T07:25:51.947061Z",
     "iopub.status.idle": "2022-09-07T07:25:51.953083Z",
     "shell.execute_reply": "2022-09-07T07:25:51.951993Z",
     "shell.execute_reply.started": "2022-09-07T07:25:51.947480Z"
    },
    "tags": []
   },
   "outputs": [],
   "source": [
    "rel_name = Relation_Name(gold_query, question_input, question_tok, \\\n",
    "                        raw_question, pre.nlp_tokenize)"
   ]
  },
  {
   "cell_type": "code",
   "execution_count": 11,
   "id": "653fecdf-685a-4243-94e5-986daea2512d",
   "metadata": {
    "execution": {
     "iopub.execute_input": "2022-09-07T07:25:54.860808Z",
     "iopub.status.busy": "2022-09-07T07:25:54.860418Z",
     "iopub.status.idle": "2022-09-07T07:25:54.881252Z",
     "shell.execute_reply": "2022-09-07T07:25:54.880665Z",
     "shell.execute_reply.started": "2022-09-07T07:25:54.860778Z"
    },
    "scrolled": true,
    "tags": []
   },
   "outputs": [
    {
     "data": {
      "text/plain": [
       "array([['label-label-identity', 'label-label-identity', 'None',\n",
       "        'label-name-decode', 'label-name-decode',\n",
       "        'object-subject-cooccurence', 'object-subject-cooccurence',\n",
       "        'None', 'object-subject-cooccurence',\n",
       "        'object-subject-cooccurence', 'entity-entity-identity',\n",
       "        'entity-entity-identity', 'None', 'entity-entity-identity',\n",
       "        'entity-entity-identity', 'object-subject-cooccurence',\n",
       "        'object-subject-cooccurence', 'None',\n",
       "        'object-subject-cooccurence'],\n",
       "       ['label-label-identity', 'label-label-identity', 'None',\n",
       "        'label-name-decode', 'label-name-decode',\n",
       "        'object-subject-cooccurence', 'object-subject-cooccurence',\n",
       "        'None', 'object-subject-cooccurence',\n",
       "        'object-subject-cooccurence', 'entity-entity-identity',\n",
       "        'entity-entity-identity', 'None', 'entity-entity-identity',\n",
       "        'entity-entity-identity', 'object-subject-cooccurence',\n",
       "        'object-subject-cooccurence', 'None',\n",
       "        'object-subject-cooccurence'],\n",
       "       ['None', 'None', 'None', 'None', 'None', 'None', 'None', 'None',\n",
       "        'None', 'None', 'None', 'None', 'None', 'None', 'None', 'None',\n",
       "        'None', 'None', 'None'],\n",
       "       ['name-label-encode', 'name-label-encode', 'None',\n",
       "        'name-name-identity', 'name-name-identity',\n",
       "        'object-subject-cooccurence', 'object-subject-cooccurence',\n",
       "        'None', 'object-subject-cooccurence',\n",
       "        'object-subject-cooccurence', 'entity-entity-identity',\n",
       "        'entity-entity-identity', 'None', 'entity-entity-identity',\n",
       "        'entity-entity-identity', 'object-subject-cooccurence',\n",
       "        'object-subject-cooccurence', 'None',\n",
       "        'object-subject-cooccurence'],\n",
       "       ['name-label-encode', 'name-label-encode', 'None',\n",
       "        'name-name-identity', 'name-name-identity',\n",
       "        'object-subject-cooccurence', 'object-subject-cooccurence',\n",
       "        'None', 'object-subject-cooccurence',\n",
       "        'object-subject-cooccurence', 'entity-entity-identity',\n",
       "        'entity-entity-identity', 'None', 'entity-entity-identity',\n",
       "        'entity-entity-identity', 'object-subject-cooccurence',\n",
       "        'object-subject-cooccurence', 'None',\n",
       "        'object-subject-cooccurence'],\n",
       "       ['subject-object-cooccurence', 'subject-object-cooccurence',\n",
       "        'None', 'subject-object-cooccurence',\n",
       "        'subject-object-cooccurence', 'label-label-identity',\n",
       "        'label-label-identity', 'None', 'label-name-decode',\n",
       "        'label-name-decode', 'subject-object-cooccurence',\n",
       "        'subject-object-cooccurence', 'None',\n",
       "        'subject-object-cooccurence', 'subject-object-cooccurence',\n",
       "        'entity-entity-generic', 'entity-entity-generic', 'None',\n",
       "        'entity-entity-generic'],\n",
       "       ['subject-object-cooccurence', 'subject-object-cooccurence',\n",
       "        'None', 'subject-object-cooccurence',\n",
       "        'subject-object-cooccurence', 'label-label-identity',\n",
       "        'label-label-identity', 'None', 'label-name-decode',\n",
       "        'label-name-decode', 'subject-object-cooccurence',\n",
       "        'subject-object-cooccurence', 'None',\n",
       "        'subject-object-cooccurence', 'subject-object-cooccurence',\n",
       "        'entity-entity-generic', 'entity-entity-generic', 'None',\n",
       "        'entity-entity-generic'],\n",
       "       ['None', 'None', 'None', 'None', 'None', 'None', 'None', 'None',\n",
       "        'None', 'None', 'None', 'None', 'None', 'None', 'None', 'None',\n",
       "        'None', 'None', 'None'],\n",
       "       ['subject-object-cooccurence', 'subject-object-cooccurence',\n",
       "        'None', 'subject-object-cooccurence',\n",
       "        'subject-object-cooccurence', 'name-label-encode',\n",
       "        'name-label-encode', 'None', 'name-name-identity',\n",
       "        'name-name-identity', 'subject-object-cooccurence',\n",
       "        'subject-object-cooccurence', 'None',\n",
       "        'subject-object-cooccurence', 'subject-object-cooccurence',\n",
       "        'entity-entity-generic', 'entity-entity-generic', 'None',\n",
       "        'entity-entity-generic'],\n",
       "       ['subject-object-cooccurence', 'subject-object-cooccurence',\n",
       "        'None', 'subject-object-cooccurence',\n",
       "        'subject-object-cooccurence', 'name-label-encode',\n",
       "        'name-label-encode', 'None', 'name-name-identity',\n",
       "        'name-name-identity', 'subject-object-cooccurence',\n",
       "        'subject-object-cooccurence', 'None',\n",
       "        'subject-object-cooccurence', 'subject-object-cooccurence',\n",
       "        'entity-entity-generic', 'entity-entity-generic', 'None',\n",
       "        'entity-entity-generic'],\n",
       "       ['entity-entity-identity', 'entity-entity-identity', 'None',\n",
       "        'entity-entity-identity', 'entity-entity-identity',\n",
       "        'object-subject-cooccurence', 'object-subject-cooccurence',\n",
       "        'None', 'object-subject-cooccurence',\n",
       "        'object-subject-cooccurence', 'label-label-identity',\n",
       "        'label-label-identity', 'None', 'label-name-decode',\n",
       "        'label-name-decode', 'object-subject-cooccurence',\n",
       "        'object-subject-cooccurence', 'None',\n",
       "        'object-subject-cooccurence'],\n",
       "       ['entity-entity-identity', 'entity-entity-identity', 'None',\n",
       "        'entity-entity-identity', 'entity-entity-identity',\n",
       "        'object-subject-cooccurence', 'object-subject-cooccurence',\n",
       "        'None', 'object-subject-cooccurence',\n",
       "        'object-subject-cooccurence', 'label-label-identity',\n",
       "        'label-label-identity', 'None', 'label-name-decode',\n",
       "        'label-name-decode', 'object-subject-cooccurence',\n",
       "        'object-subject-cooccurence', 'None',\n",
       "        'object-subject-cooccurence'],\n",
       "       ['None', 'None', 'None', 'None', 'None', 'None', 'None', 'None',\n",
       "        'None', 'None', 'None', 'None', 'None', 'None', 'None', 'None',\n",
       "        'None', 'None', 'None'],\n",
       "       ['entity-entity-identity', 'entity-entity-identity', 'None',\n",
       "        'entity-entity-identity', 'entity-entity-identity',\n",
       "        'object-subject-cooccurence', 'object-subject-cooccurence',\n",
       "        'None', 'object-subject-cooccurence',\n",
       "        'object-subject-cooccurence', 'name-label-encode',\n",
       "        'name-label-encode', 'None', 'name-name-identity',\n",
       "        'name-name-identity', 'object-subject-cooccurence',\n",
       "        'object-subject-cooccurence', 'None',\n",
       "        'object-subject-cooccurence'],\n",
       "       ['entity-entity-identity', 'entity-entity-identity', 'None',\n",
       "        'entity-entity-identity', 'entity-entity-identity',\n",
       "        'object-subject-cooccurence', 'object-subject-cooccurence',\n",
       "        'None', 'object-subject-cooccurence',\n",
       "        'object-subject-cooccurence', 'name-label-encode',\n",
       "        'name-label-encode', 'None', 'name-name-identity',\n",
       "        'name-name-identity', 'object-subject-cooccurence',\n",
       "        'object-subject-cooccurence', 'None',\n",
       "        'object-subject-cooccurence'],\n",
       "       ['subject-object-cooccurence', 'subject-object-cooccurence',\n",
       "        'None', 'subject-object-cooccurence',\n",
       "        'subject-object-cooccurence', 'entity-entity-generic',\n",
       "        'entity-entity-generic', 'None', 'entity-entity-generic',\n",
       "        'entity-entity-generic', 'subject-object-cooccurence',\n",
       "        'subject-object-cooccurence', 'None',\n",
       "        'subject-object-cooccurence', 'subject-object-cooccurence',\n",
       "        'label-label-identity', 'label-label-identity', 'None',\n",
       "        'label-name-decode'],\n",
       "       ['subject-object-cooccurence', 'subject-object-cooccurence',\n",
       "        'None', 'subject-object-cooccurence',\n",
       "        'subject-object-cooccurence', 'entity-entity-generic',\n",
       "        'entity-entity-generic', 'None', 'entity-entity-generic',\n",
       "        'entity-entity-generic', 'subject-object-cooccurence',\n",
       "        'subject-object-cooccurence', 'None',\n",
       "        'subject-object-cooccurence', 'subject-object-cooccurence',\n",
       "        'label-label-identity', 'label-label-identity', 'None',\n",
       "        'label-name-decode'],\n",
       "       ['None', 'None', 'None', 'None', 'None', 'None', 'None', 'None',\n",
       "        'None', 'None', 'None', 'None', 'None', 'None', 'None', 'None',\n",
       "        'None', 'None', 'None'],\n",
       "       ['subject-object-cooccurence', 'subject-object-cooccurence',\n",
       "        'None', 'subject-object-cooccurence',\n",
       "        'subject-object-cooccurence', 'entity-entity-generic',\n",
       "        'entity-entity-generic', 'None', 'entity-entity-generic',\n",
       "        'entity-entity-generic', 'subject-object-cooccurence',\n",
       "        'subject-object-cooccurence', 'None',\n",
       "        'subject-object-cooccurence', 'subject-object-cooccurence',\n",
       "        'name-label-encode', 'name-label-encode', 'None',\n",
       "        'name-name-identity']], dtype='<U100')"
      ]
     },
     "execution_count": 11,
     "metadata": {},
     "output_type": "execute_result"
    }
   ],
   "source": [
    "ee_mat = rel_name.get_ee_rr_relation('entity')\n",
    "ee_mat"
   ]
  },
  {
   "cell_type": "code",
   "execution_count": 14,
   "id": "58e769d1-6031-43c2-a62e-2968c596816b",
   "metadata": {
    "execution": {
     "iopub.execute_input": "2022-09-07T04:21:00.771435Z",
     "iopub.status.busy": "2022-09-07T04:21:00.770944Z",
     "iopub.status.idle": "2022-09-07T04:21:00.791873Z",
     "shell.execute_reply": "2022-09-07T04:21:00.790475Z",
     "shell.execute_reply.started": "2022-09-07T04:21:00.771399Z"
    },
    "scrolled": true,
    "tags": []
   },
   "outputs": [
    {
     "data": {
      "text/plain": [
       "array([['label-label-identity', 'label-label-identity', 'None',\n",
       "        'label-name-decode', 'label-name-decode',\n",
       "        'relation-relation-generic', 'relation-relation-generic', 'None',\n",
       "        'relation-relation-generic', 'relation-relation-generic'],\n",
       "       ['label-label-identity', 'label-label-identity', 'None',\n",
       "        'label-name-decode', 'label-name-decode',\n",
       "        'relation-relation-generic', 'relation-relation-generic', 'None',\n",
       "        'relation-relation-generic', 'relation-relation-generic'],\n",
       "       ['None', 'None', 'None', 'None', 'None', 'None', 'None', 'None',\n",
       "        'None', 'None'],\n",
       "       ['name-label-encode', 'name-label-encode', 'None',\n",
       "        'name-name-identity', 'name-name-identity',\n",
       "        'relation-relation-generic', 'relation-relation-generic', 'None',\n",
       "        'relation-relation-generic', 'relation-relation-generic'],\n",
       "       ['name-label-encode', 'name-label-encode', 'None',\n",
       "        'name-name-identity', 'name-name-identity',\n",
       "        'relation-relation-generic', 'relation-relation-generic', 'None',\n",
       "        'relation-relation-generic', 'relation-relation-generic'],\n",
       "       ['relation-relation-generic', 'relation-relation-generic', 'None',\n",
       "        'relation-relation-generic', 'relation-relation-generic',\n",
       "        'label-label-identity', 'label-label-identity', 'None',\n",
       "        'label-name-decode', 'label-name-decode'],\n",
       "       ['relation-relation-generic', 'relation-relation-generic', 'None',\n",
       "        'relation-relation-generic', 'relation-relation-generic',\n",
       "        'label-label-identity', 'label-label-identity', 'None',\n",
       "        'label-name-decode', 'label-name-decode'],\n",
       "       ['None', 'None', 'None', 'None', 'None', 'None', 'None', 'None',\n",
       "        'None', 'None'],\n",
       "       ['relation-relation-generic', 'relation-relation-generic', 'None',\n",
       "        'relation-relation-generic', 'relation-relation-generic',\n",
       "        'name-label-encode', 'name-label-encode', 'None',\n",
       "        'name-name-identity', 'name-name-identity'],\n",
       "       ['relation-relation-generic', 'relation-relation-generic', 'None',\n",
       "        'relation-relation-generic', 'relation-relation-generic',\n",
       "        'name-label-encode', 'name-label-encode', 'None',\n",
       "        'name-name-identity', 'name-name-identity']], dtype='<U100')"
      ]
     },
     "execution_count": 14,
     "metadata": {},
     "output_type": "execute_result"
    }
   ],
   "source": [
    "rr_mat = rel_name.get_ee_rr_relation('relation')\n",
    "rr_mat"
   ]
  },
  {
   "cell_type": "code",
   "execution_count": 15,
   "id": "f91e38ae-bfd7-4472-bbbf-d3ca894ef9c5",
   "metadata": {
    "execution": {
     "iopub.execute_input": "2022-09-07T04:21:55.376421Z",
     "iopub.status.busy": "2022-09-07T04:21:55.375885Z",
     "iopub.status.idle": "2022-09-07T04:21:55.383304Z",
     "shell.execute_reply": "2022-09-07T04:21:55.381013Z",
     "shell.execute_reply.started": "2022-09-07T04:21:55.376379Z"
    },
    "tags": []
   },
   "outputs": [],
   "source": [
    "ee_mat = rel_name.get_ee_rr_relation('entity')"
   ]
  },
  {
   "cell_type": "code",
   "execution_count": 16,
   "id": "23ac3e6e-73cb-498c-8a98-7715bf143f74",
   "metadata": {
    "execution": {
     "iopub.execute_input": "2022-09-07T04:21:59.997056Z",
     "iopub.status.busy": "2022-09-07T04:21:59.995798Z",
     "iopub.status.idle": "2022-09-07T04:22:00.006269Z",
     "shell.execute_reply": "2022-09-07T04:22:00.005384Z",
     "shell.execute_reply.started": "2022-09-07T04:21:59.996969Z"
    },
    "scrolled": true,
    "tags": []
   },
   "outputs": [
    {
     "data": {
      "text/plain": [
       "array([['label-label-identity', 'label-label-identity', 'None',\n",
       "        'label-name-decode', 'label-name-decode', 'label-name-decode',\n",
       "        'entity-entity-generic', 'entity-entity-generic', 'None',\n",
       "        'entity-entity-generic'],\n",
       "       ['label-label-identity', 'label-label-identity', 'None',\n",
       "        'label-name-decode', 'label-name-decode', 'label-name-decode',\n",
       "        'entity-entity-generic', 'entity-entity-generic', 'None',\n",
       "        'entity-entity-generic'],\n",
       "       ['None', 'None', 'None', 'None', 'None', 'None', 'None', 'None',\n",
       "        'None', 'None'],\n",
       "       ['name-label-encode', 'name-label-encode', 'None',\n",
       "        'name-name-identity', 'name-name-identity', 'name-name-identity',\n",
       "        'entity-entity-generic', 'entity-entity-generic', 'None',\n",
       "        'entity-entity-generic'],\n",
       "       ['name-label-encode', 'name-label-encode', 'None',\n",
       "        'name-name-identity', 'name-name-identity', 'name-name-identity',\n",
       "        'entity-entity-generic', 'entity-entity-generic', 'None',\n",
       "        'entity-entity-generic'],\n",
       "       ['name-label-encode', 'name-label-encode', 'None',\n",
       "        'name-name-identity', 'name-name-identity', 'name-name-identity',\n",
       "        'entity-entity-generic', 'entity-entity-generic', 'None',\n",
       "        'entity-entity-generic'],\n",
       "       ['entity-entity-generic', 'entity-entity-generic', 'None',\n",
       "        'entity-entity-generic', 'entity-entity-generic',\n",
       "        'entity-entity-generic', 'label-label-identity',\n",
       "        'label-label-identity', 'None', 'label-name-decode'],\n",
       "       ['entity-entity-generic', 'entity-entity-generic', 'None',\n",
       "        'entity-entity-generic', 'entity-entity-generic',\n",
       "        'entity-entity-generic', 'label-label-identity',\n",
       "        'label-label-identity', 'None', 'label-name-decode'],\n",
       "       ['None', 'None', 'None', 'None', 'None', 'None', 'None', 'None',\n",
       "        'None', 'None'],\n",
       "       ['entity-entity-generic', 'entity-entity-generic', 'None',\n",
       "        'entity-entity-generic', 'entity-entity-generic',\n",
       "        'entity-entity-generic', 'name-label-encode',\n",
       "        'name-label-encode', 'None', 'name-name-identity']], dtype='<U100')"
      ]
     },
     "execution_count": 16,
     "metadata": {},
     "output_type": "execute_result"
    }
   ],
   "source": [
    "ee_mat"
   ]
  },
  {
   "cell_type": "code",
   "execution_count": 12,
   "id": "1ee6c78f-0693-4257-b860-ea504ad85a47",
   "metadata": {
    "execution": {
     "iopub.execute_input": "2022-09-07T04:53:46.224678Z",
     "iopub.status.busy": "2022-09-07T04:53:46.223400Z",
     "iopub.status.idle": "2022-09-07T04:53:46.238453Z",
     "shell.execute_reply": "2022-09-07T04:53:46.237208Z",
     "shell.execute_reply.started": "2022-09-07T04:53:46.224603Z"
    },
    "scrolled": true,
    "tags": []
   },
   "outputs": [
    {
     "data": {
      "text/plain": [
       "array([['subject-verb-cooccurence', 'subject-verb-cooccurence', 'None',\n",
       "        'subject-verb-cooccurence', 'subject-verb-cooccurence',\n",
       "        'entity-relation-generic', 'entity-relation-generic', 'None',\n",
       "        'entity-relation-generic', 'entity-relation-generic'],\n",
       "       ['subject-verb-cooccurence', 'subject-verb-cooccurence', 'None',\n",
       "        'subject-verb-cooccurence', 'subject-verb-cooccurence',\n",
       "        'entity-relation-generic', 'entity-relation-generic', 'None',\n",
       "        'entity-relation-generic', 'entity-relation-generic'],\n",
       "       ['None', 'None', 'None', 'None', 'None', 'None', 'None', 'None',\n",
       "        'None', 'None'],\n",
       "       ['subject-verb-cooccurence', 'subject-verb-cooccurence', 'None',\n",
       "        'subject-verb-cooccurence', 'subject-verb-cooccurence',\n",
       "        'entity-relation-generic', 'entity-relation-generic', 'None',\n",
       "        'entity-relation-generic', 'entity-relation-generic'],\n",
       "       ['subject-verb-cooccurence', 'subject-verb-cooccurence', 'None',\n",
       "        'subject-verb-cooccurence', 'subject-verb-cooccurence',\n",
       "        'entity-relation-generic', 'entity-relation-generic', 'None',\n",
       "        'entity-relation-generic', 'entity-relation-generic'],\n",
       "       ['subject-verb-cooccurence', 'subject-verb-cooccurence', 'None',\n",
       "        'subject-verb-cooccurence', 'subject-verb-cooccurence',\n",
       "        'entity-relation-generic', 'entity-relation-generic', 'None',\n",
       "        'entity-relation-generic', 'entity-relation-generic'],\n",
       "       ['entity-relation-generic', 'entity-relation-generic', 'None',\n",
       "        'entity-relation-generic', 'entity-relation-generic',\n",
       "        'object-verb-cooccurence', 'object-verb-cooccurence', 'None',\n",
       "        'object-verb-cooccurence', 'object-verb-cooccurence'],\n",
       "       ['entity-relation-generic', 'entity-relation-generic', 'None',\n",
       "        'entity-relation-generic', 'entity-relation-generic',\n",
       "        'object-verb-cooccurence', 'object-verb-cooccurence', 'None',\n",
       "        'object-verb-cooccurence', 'object-verb-cooccurence'],\n",
       "       ['None', 'None', 'None', 'None', 'None', 'None', 'None', 'None',\n",
       "        'None', 'None'],\n",
       "       ['entity-relation-generic', 'entity-relation-generic', 'None',\n",
       "        'entity-relation-generic', 'entity-relation-generic',\n",
       "        'object-verb-cooccurence', 'object-verb-cooccurence', 'None',\n",
       "        'object-verb-cooccurence', 'object-verb-cooccurence']],\n",
       "      dtype='<U100')"
      ]
     },
     "execution_count": 12,
     "metadata": {},
     "output_type": "execute_result"
    }
   ],
   "source": [
    "er_mat, re_mat = rel_name.get_er_relation()\n",
    "er_mat"
   ]
  },
  {
   "cell_type": "code",
   "execution_count": 13,
   "id": "ffff14a9-84a0-494c-a6b2-fc9ee37a19be",
   "metadata": {
    "execution": {
     "iopub.execute_input": "2022-09-07T06:38:07.807392Z",
     "iopub.status.busy": "2022-09-07T06:38:07.807184Z",
     "iopub.status.idle": "2022-09-07T06:38:07.816066Z",
     "shell.execute_reply": "2022-09-07T06:38:07.814422Z",
     "shell.execute_reply.started": "2022-09-07T06:38:07.807357Z"
    },
    "scrolled": true,
    "tags": []
   },
   "outputs": [
    {
     "data": {
      "text/plain": [
       "array([['verb-subject-cooccurence', 'verb-subject-cooccurence', 'None',\n",
       "        'verb-subject-cooccurence', 'verb-subject-cooccurence',\n",
       "        'verb-subject-cooccurence', 'relation-entity-generic',\n",
       "        'relation-entity-generic', 'None', 'relation-entity-generic'],\n",
       "       ['verb-subject-cooccurence', 'verb-subject-cooccurence', 'None',\n",
       "        'verb-subject-cooccurence', 'verb-subject-cooccurence',\n",
       "        'verb-subject-cooccurence', 'relation-entity-generic',\n",
       "        'relation-entity-generic', 'None', 'relation-entity-generic'],\n",
       "       ['None', 'None', 'None', 'None', 'None', 'None', 'None', 'None',\n",
       "        'None', 'None'],\n",
       "       ['verb-subject-cooccurence', 'verb-subject-cooccurence', 'None',\n",
       "        'verb-subject-cooccurence', 'verb-subject-cooccurence',\n",
       "        'verb-subject-cooccurence', 'relation-entity-generic',\n",
       "        'relation-entity-generic', 'None', 'relation-entity-generic'],\n",
       "       ['verb-subject-cooccurence', 'verb-subject-cooccurence', 'None',\n",
       "        'verb-subject-cooccurence', 'verb-subject-cooccurence',\n",
       "        'verb-subject-cooccurence', 'relation-entity-generic',\n",
       "        'relation-entity-generic', 'None', 'relation-entity-generic'],\n",
       "       ['relation-entity-generic', 'relation-entity-generic', 'None',\n",
       "        'relation-entity-generic', 'relation-entity-generic',\n",
       "        'relation-entity-generic', 'verb-object-cooccurence',\n",
       "        'verb-object-cooccurence', 'None', 'verb-object-cooccurence'],\n",
       "       ['relation-entity-generic', 'relation-entity-generic', 'None',\n",
       "        'relation-entity-generic', 'relation-entity-generic',\n",
       "        'relation-entity-generic', 'verb-object-cooccurence',\n",
       "        'verb-object-cooccurence', 'None', 'verb-object-cooccurence'],\n",
       "       ['None', 'None', 'None', 'None', 'None', 'None', 'None', 'None',\n",
       "        'None', 'None'],\n",
       "       ['relation-entity-generic', 'relation-entity-generic', 'None',\n",
       "        'relation-entity-generic', 'relation-entity-generic',\n",
       "        'relation-entity-generic', 'verb-object-cooccurence',\n",
       "        'verb-object-cooccurence', 'None', 'verb-object-cooccurence'],\n",
       "       ['relation-entity-generic', 'relation-entity-generic', 'None',\n",
       "        'relation-entity-generic', 'relation-entity-generic',\n",
       "        'relation-entity-generic', 'verb-object-cooccurence',\n",
       "        'verb-object-cooccurence', 'None', 'verb-object-cooccurence']],\n",
       "      dtype='<U100')"
      ]
     },
     "execution_count": 13,
     "metadata": {},
     "output_type": "execute_result"
    }
   ],
   "source": [
    "re_mat"
   ]
  },
  {
   "cell_type": "code",
   "execution_count": 21,
   "id": "c019f5d8-a74f-4fd0-9dca-7c15cb380e1a",
   "metadata": {
    "execution": {
     "iopub.execute_input": "2022-09-07T04:28:34.876973Z",
     "iopub.status.busy": "2022-09-07T04:28:34.876237Z",
     "iopub.status.idle": "2022-09-07T04:28:34.885933Z",
     "shell.execute_reply": "2022-09-07T04:28:34.884701Z",
     "shell.execute_reply.started": "2022-09-07T04:28:34.876895Z"
    },
    "tags": []
   },
   "outputs": [
    {
     "data": {
      "text/plain": [
       "[2, 7]"
      ]
     },
     "execution_count": 21,
     "metadata": {},
     "output_type": "execute_result"
    }
   ],
   "source": [
    "rel_name.quota_rel"
   ]
  },
  {
   "cell_type": "code",
   "execution_count": null,
   "id": "7f990ebb-4240-44f3-946c-74b105c79362",
   "metadata": {},
   "outputs": [],
   "source": [
    "get_id.tokenizer("
   ]
  },
  {
   "cell_type": "code",
   "execution_count": 14,
   "id": "5853a6f3-12db-4ee0-8c82-1d161b73fc34",
   "metadata": {
    "execution": {
     "iopub.execute_input": "2022-09-07T07:05:38.291056Z",
     "iopub.status.busy": "2022-09-07T07:05:38.283647Z",
     "iopub.status.idle": "2022-09-07T07:05:53.015039Z",
     "shell.execute_reply": "2022-09-07T07:05:53.012126Z",
     "shell.execute_reply.started": "2022-09-07T07:05:38.291010Z"
    },
    "tags": []
   },
   "outputs": [
    {
     "ename": "KeyError",
     "evalue": "'input_ids'",
     "output_type": "error",
     "traceback": [
      "\u001b[0;31m---------------------------------------------------------------------------\u001b[0m",
      "\u001b[0;31mKeyError\u001b[0m                                  Traceback (most recent call last)",
      "\u001b[0;32m/tmp/ipykernel_1832819/2678654076.py\u001b[0m in \u001b[0;36m<module>\u001b[0;34m\u001b[0m\n\u001b[0;32m----> 1\u001b[0;31m \u001b[0mget_id\u001b[0m\u001b[0;34m.\u001b[0m\u001b[0mget_relation_id\u001b[0m\u001b[0;34m(\u001b[0m\u001b[0mdata\u001b[0m\u001b[0;34m)\u001b[0m\u001b[0;34m\u001b[0m\u001b[0;34m\u001b[0m\u001b[0m\n\u001b[0m",
      "\u001b[0;32m~/project/text2sparql/relations_test/relation_ee/seq2seq/relation_infusion/get_relation_mat.py\u001b[0m in \u001b[0;36mget_relation_id\u001b[0;34m(self, data)\u001b[0m\n\u001b[1;32m    103\u001b[0m         \u001b[0mbegin\u001b[0m\u001b[0;34m,\u001b[0m \u001b[0mphrase2tokid\u001b[0m\u001b[0;34m,\u001b[0m \u001b[0mquestion2id\u001b[0m\u001b[0;34m,\u001b[0m \u001b[0ment2id\u001b[0m\u001b[0;34m,\u001b[0m \u001b[0mrel2id\u001b[0m \u001b[0;34m=\u001b[0m \u001b[0mself\u001b[0m\u001b[0;34m.\u001b[0m\u001b[0mget_word2ids\u001b[0m\u001b[0;34m(\u001b[0m\u001b[0;34m)\u001b[0m\u001b[0;34m\u001b[0m\u001b[0;34m\u001b[0m\u001b[0m\n\u001b[1;32m    104\u001b[0m         \u001b[0;31m#tok_len = len(self.tokenizer(self.question_input,padding=True,max_length=512, truncation=True)['input_ids'])\u001b[0m\u001b[0;34m\u001b[0m\u001b[0;34m\u001b[0m\u001b[0;34m\u001b[0m\u001b[0m\n\u001b[0;32m--> 105\u001b[0;31m         \u001b[0mtok_len\u001b[0m \u001b[0;34m=\u001b[0m \u001b[0mlen\u001b[0m\u001b[0;34m(\u001b[0m\u001b[0mdata\u001b[0m\u001b[0;34m[\u001b[0m\u001b[0;34m'input_ids'\u001b[0m\u001b[0;34m]\u001b[0m\u001b[0;34m)\u001b[0m\u001b[0;34m\u001b[0m\u001b[0;34m\u001b[0m\u001b[0m\n\u001b[0m\u001b[1;32m    106\u001b[0m         \u001b[0;32massert\u001b[0m \u001b[0mtok_len\u001b[0m \u001b[0;34m==\u001b[0m \u001b[0mbegin\u001b[0m\u001b[0;34m+\u001b[0m\u001b[0;36m1\u001b[0m\u001b[0;34m\u001b[0m\u001b[0;34m\u001b[0m\u001b[0m\n\u001b[1;32m    107\u001b[0m \u001b[0;34m\u001b[0m\u001b[0m\n",
      "\u001b[0;31mKeyError\u001b[0m: 'input_ids'"
     ]
    }
   ],
   "source": [
    "get_id.get_relation_id(data)"
   ]
  },
  {
   "cell_type": "code",
   "execution_count": null,
   "id": "a0e9655e-4d86-44f1-9409-766e09b9b1cf",
   "metadata": {},
   "outputs": [],
   "source": []
  },
  {
   "cell_type": "code",
   "execution_count": null,
   "id": "784ce8e9-ed2a-4f79-b892-f1d113dfe425",
   "metadata": {},
   "outputs": [],
   "source": []
  },
  {
   "cell_type": "code",
   "execution_count": null,
   "id": "43025d52-399d-42bc-9ecb-a18a2197f6c5",
   "metadata": {},
   "outputs": [],
   "source": []
  },
  {
   "cell_type": "code",
   "execution_count": 7,
   "id": "0ebd219b-d4aa-49c5-8bf1-606b9f6561a6",
   "metadata": {
    "execution": {
     "iopub.execute_input": "2022-08-14T23:46:03.984596Z",
     "iopub.status.busy": "2022-08-14T23:46:03.984413Z",
     "iopub.status.idle": "2022-08-14T23:46:05.384520Z",
     "shell.execute_reply": "2022-08-14T23:46:05.383168Z",
     "shell.execute_reply.started": "2022-08-14T23:46:03.984574Z"
    },
    "tags": []
   },
   "outputs": [
    {
     "name": "stderr",
     "output_type": "stream",
     "text": [
      "  0%|          | 0/30226 [00:00<?, ?it/s]\n"
     ]
    },
    {
     "ename": "NameError",
     "evalue": "name 'Relation_Name' is not defined",
     "output_type": "error",
     "traceback": [
      "\u001b[0;31m---------------------------------------------------------------------------\u001b[0m",
      "\u001b[0;31mNameError\u001b[0m                                 Traceback (most recent call last)",
      "\u001b[0;32m/tmp/ipykernel_1386505/715180849.py\u001b[0m in \u001b[0;36m<module>\u001b[0;34m\u001b[0m\n\u001b[1;32m     11\u001b[0m     \u001b[0mschema\u001b[0m \u001b[0;34m=\u001b[0m \u001b[0mdata\u001b[0m\u001b[0;34m[\u001b[0m\u001b[0;34m'schema'\u001b[0m\u001b[0;34m]\u001b[0m\u001b[0;34m\u001b[0m\u001b[0;34m\u001b[0m\u001b[0m\n\u001b[1;32m     12\u001b[0m \u001b[0;34m\u001b[0m\u001b[0m\n\u001b[0;32m---> 13\u001b[0;31m     rel_name = Relation_Name(gold_query, question_input, question_tok, \\\n\u001b[0m\u001b[1;32m     14\u001b[0m                         raw_question, pre.nlp_tokenize)\n\u001b[1;32m     15\u001b[0m \u001b[0;34m\u001b[0m\u001b[0m\n",
      "\u001b[0;31mNameError\u001b[0m: name 'Relation_Name' is not defined"
     ]
    }
   ],
   "source": [
    "for raw_data in tqdm(train+test):    \n",
    "    data = pre._preprocess(raw_data)\n",
    "    raw_question = data['raw_question']\n",
    "    gold_query = data['sparql_process']\n",
    "    question_input = data['question_process']\n",
    "\n",
    "    if isinstance(data['question_toks'], list):\n",
    "        question_tok = data['question_toks'] \n",
    "    elif isinstance(data['question_toks'], str):\n",
    "        question_tok = eval(data['question_toks'])\n",
    "    schema = data['schema']\n",
    "    \n",
    "    rel_name = Relation_Name(gold_query, question_input, question_tok, \\\n",
    "                        raw_question, pre.nlp_tokenize)\n",
    "    \n",
    "    ee_mat = rel_name.get_ee_rr_relation('entity')\n",
    "    rr_mat = rel_name.get_ee_rr_relation('relation')\n",
    "    \n",
    "    break"
   ]
  },
  {
   "cell_type": "code",
   "execution_count": 19,
   "id": "04f084e9-277f-4448-8266-9785088df300",
   "metadata": {
    "execution": {
     "iopub.execute_input": "2022-08-14T22:57:33.774320Z",
     "iopub.status.busy": "2022-08-14T22:57:33.773790Z",
     "iopub.status.idle": "2022-08-14T22:57:33.782442Z",
     "shell.execute_reply": "2022-08-14T22:57:33.781391Z",
     "shell.execute_reply.started": "2022-08-14T22:57:33.774281Z"
    },
    "tags": []
   },
   "outputs": [
    {
     "data": {
      "text/plain": [
       "['<extra_id_54> p2813 <extra_id_31> house publication',\n",
       " '<extra_id_54> p31 <extra_id_31> instance of']"
      ]
     },
     "execution_count": 19,
     "metadata": {},
     "output_type": "execute_result"
    }
   ],
   "source": [
    "rel_name.rels"
   ]
  },
  {
   "cell_type": "code",
   "execution_count": 17,
   "id": "0a96b280-e0b5-43d4-aa34-bfa813f6f224",
   "metadata": {
    "execution": {
     "iopub.execute_input": "2022-08-14T16:59:13.608850Z",
     "iopub.status.busy": "2022-08-14T16:59:13.608293Z",
     "iopub.status.idle": "2022-08-14T16:59:13.618417Z",
     "shell.execute_reply": "2022-08-14T16:59:13.617531Z",
     "shell.execute_reply.started": "2022-08-14T16:59:13.608782Z"
    },
    "tags": []
   },
   "outputs": [
    {
     "data": {
      "text/plain": [
       "array(['label-name-decode', 'label-name-decode', 'entity-entity-generic',\n",
       "       'name-name-identity', 'name-name-identity', 'name-name-identity',\n",
       "       'entity-entity-generic', 'entity-entity-generic',\n",
       "       'entity-entity-generic', 'entity-entity-generic'], dtype='<U100')"
      ]
     },
     "execution_count": 17,
     "metadata": {},
     "output_type": "execute_result"
    }
   ],
   "source": [
    "ee_mat[:,3]"
   ]
  },
  {
   "cell_type": "code",
   "execution_count": null,
   "id": "d715122c-5985-4055-9990-3e35f3084c78",
   "metadata": {
    "execution": {
     "iopub.status.busy": "2022-08-14T23:46:06.520305Z",
     "iopub.status.idle": "2022-08-14T23:46:06.520615Z",
     "shell.execute_reply": "2022-08-14T23:46:06.520470Z",
     "shell.execute_reply.started": "2022-08-14T23:46:06.520451Z"
    },
    "tags": []
   },
   "outputs": [],
   "source": [
    "res=get_id.get_relation_id(data)"
   ]
  },
  {
   "cell_type": "code",
   "execution_count": null,
   "id": "7fae4b4a-b5b5-43b7-be20-b6f8fbb0bdfc",
   "metadata": {},
   "outputs": [],
   "source": []
  },
  {
   "cell_type": "code",
   "execution_count": null,
   "id": "ebfb9866-093c-40c6-9d62-3fe6e774f3b2",
   "metadata": {},
   "outputs": [],
   "source": []
  },
  {
   "cell_type": "code",
   "execution_count": 12,
   "id": "44efa473-7361-48cd-9601-f8232588316b",
   "metadata": {
    "execution": {
     "iopub.execute_input": "2022-09-07T07:30:49.349747Z",
     "iopub.status.busy": "2022-09-07T07:30:49.349428Z",
     "iopub.status.idle": "2022-09-07T07:30:49.354408Z",
     "shell.execute_reply": "2022-09-07T07:30:49.353400Z",
     "shell.execute_reply.started": "2022-09-07T07:30:49.349712Z"
    },
    "tags": []
   },
   "outputs": [],
   "source": [
    "from seq2seq.relation_infusion.get_relation2id_dict import get_relation2id_dict"
   ]
  },
  {
   "cell_type": "code",
   "execution_count": 15,
   "id": "ce923314-25fd-4f7e-ab35-fe85b7d65634",
   "metadata": {
    "execution": {
     "iopub.execute_input": "2022-09-07T07:32:17.128190Z",
     "iopub.status.busy": "2022-09-07T07:32:17.127631Z",
     "iopub.status.idle": "2022-09-07T07:32:17.133229Z",
     "shell.execute_reply": "2022-09-07T07:32:17.131946Z",
     "shell.execute_reply.started": "2022-09-07T07:32:17.128135Z"
    },
    "tags": []
   },
   "outputs": [],
   "source": [
    "RELATION2ID_DICT, ID2RELATION_DICT, relation_num = get_relation2id_dict()"
   ]
  },
  {
   "cell_type": "code",
   "execution_count": 17,
   "id": "c651d573-56c6-4cc9-914b-4128058d92d7",
   "metadata": {
    "execution": {
     "iopub.execute_input": "2022-09-07T07:32:32.404058Z",
     "iopub.status.busy": "2022-09-07T07:32:32.403614Z",
     "iopub.status.idle": "2022-09-07T07:32:32.411770Z",
     "shell.execute_reply": "2022-09-07T07:32:32.411011Z",
     "shell.execute_reply.started": "2022-09-07T07:32:32.404021Z"
    },
    "tags": []
   },
   "outputs": [
    {
     "data": {
      "text/plain": [
       "{1: 'name-label-encode',\n",
       " 2: 'label-name-decode',\n",
       " 3: 'name-name-identity',\n",
       " 4: 'label-label-identity',\n",
       " 5: 'entity-entity-identity',\n",
       " 6: 'relation-relation-identity',\n",
       " 7: 'question-question-dist-2',\n",
       " 8: 'question-question-dist-1',\n",
       " 9: 'question-question-identity',\n",
       " 10: 'question-question-dist1',\n",
       " 11: 'question-question-dist2',\n",
       " 12: 'Forward-Syntax',\n",
       " 13: 'Backward-Syntax',\n",
       " 14: 'None-Syntax',\n",
       " 15: 'subject-object-cooccurence',\n",
       " 16: 'object-subject-cooccurence',\n",
       " 17: 'subject-verb-cooccurence',\n",
       " 18: 'verb-subject-cooccurence',\n",
       " 19: 'verb-object-cooccurence',\n",
       " 20: 'object-verb-cooccurence',\n",
       " 21: 'question-entity-exactmatch',\n",
       " 22: 'question-entity-partialmatch',\n",
       " 23: 'question-entity-nomatch',\n",
       " 24: 'entity-question-exactmatch',\n",
       " 25: 'entity-question-partialmatch',\n",
       " 26: 'entity-question-nomatch',\n",
       " 27: 'question-relation-exactmatch',\n",
       " 28: 'question-relation-partialmatch',\n",
       " 29: 'question-relation-nomatch',\n",
       " 30: 'relation-question-exactmatch',\n",
       " 31: 'relation-question-partialmatch',\n",
       " 32: 'relation-question-nomatch',\n",
       " 33: 'question-question-generic',\n",
       " 34: 'entity-entity-generic',\n",
       " 35: 'relation-relation-generic',\n",
       " 36: 'relation-entity-generic',\n",
       " 37: 'entity-relation-generic',\n",
       " 0: 'None'}"
      ]
     },
     "execution_count": 17,
     "metadata": {},
     "output_type": "execute_result"
    }
   ],
   "source": [
    "ID2RELATION_DICT"
   ]
  }
 ],
 "metadata": {
  "kernelspec": {
   "display_name": "Python [conda env:python37] *",
   "language": "python",
   "name": "conda-env-python37-py"
  },
  "language_info": {
   "codemirror_mode": {
    "name": "ipython",
    "version": 3
   },
   "file_extension": ".py",
   "mimetype": "text/x-python",
   "name": "python",
   "nbconvert_exporter": "python",
   "pygments_lexer": "ipython3",
   "version": "3.7.11"
  }
 },
 "nbformat": 4,
 "nbformat_minor": 5
}
