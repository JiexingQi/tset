{
 "cells": [
  {
   "cell_type": "code",
   "execution_count": 2,
   "id": "c64a5bfd-dbbb-4acb-bbe7-898876fed5b2",
   "metadata": {
    "execution": {
     "iopub.execute_input": "2022-10-21T03:04:49.617119Z",
     "iopub.status.busy": "2022-10-21T03:04:49.616710Z",
     "iopub.status.idle": "2022-10-21T03:04:49.622446Z",
     "shell.execute_reply": "2022-10-21T03:04:49.621406Z",
     "shell.execute_reply.started": "2022-10-21T03:04:49.617068Z"
    },
    "tags": []
   },
   "outputs": [
    {
     "name": "stdout",
     "output_type": "stream",
     "text": [
      "The history saving thread hit an unexpected error (OperationalError('attempt to write a readonly database')).History will not be written to the database.\n"
     ]
    }
   ],
   "source": [
    "import json"
   ]
  },
  {
   "cell_type": "code",
   "execution_count": 6,
   "id": "c8d99960-27a8-4253-94fe-dfc195cc3fc8",
   "metadata": {
    "execution": {
     "iopub.execute_input": "2022-10-21T02:36:37.491521Z",
     "iopub.status.busy": "2022-10-21T02:36:37.491149Z",
     "iopub.status.idle": "2022-10-21T02:36:37.535239Z",
     "shell.execute_reply": "2022-10-21T02:36:37.534242Z",
     "shell.execute_reply.started": "2022-10-21T02:36:37.491472Z"
    },
    "tags": []
   },
   "outputs": [],
   "source": [
    "out_file = json.load(open('../../../../train/train_10.14/predictions_eval_1023.9312169312169.json', 'rb'))"
   ]
  },
  {
   "cell_type": "code",
   "execution_count": 10,
   "id": "7b551771-fc5a-42b6-915b-9cd814be4414",
   "metadata": {
    "execution": {
     "iopub.execute_input": "2022-10-21T02:44:22.190006Z",
     "iopub.status.busy": "2022-10-21T02:44:22.189602Z",
     "iopub.status.idle": "2022-10-21T02:44:22.198557Z",
     "shell.execute_reply": "2022-10-21T02:44:22.197037Z",
     "shell.execute_reply.started": "2022-10-21T02:44:22.189954Z"
    },
    "tags": []
   },
   "outputs": [
    {
     "data": {
      "text/plain": [
       "{'prediction': '<extra_id_6><extra_id_21><extra_id_39><extra_id_19><extra_id_33><extra_id_39><extra_id_54> head of state<extra_id_53> Mahmoud Abbas<extra_id_38><extra_id_39><extra_id_54> instance of<extra_id_53> country<extra_id_15>',\n",
       " 'query': '<extra_id_6> <extra_id_21> <extra_id_39> <extra_id_19> <extra_id_33> <extra_id_39> <extra_id_54> head of state <extra_id_53> Mahmoud Abbas <extra_id_38> <extra_id_39> <extra_id_54> instance of <extra_id_53> country <extra_id_15>',\n",
       " 'question': 'Who is the country for head of state of Mahmoud Abbas <extra_id_60> <extra_id_53> Mahmoud Abbas <extra_id_60> <extra_id_53> country <extra_id_61> <extra_id_54> head of state <extra_id_61> <extra_id_54> instance of',\n",
       " 'context': 'text2sparqlWho is the country for head of state of Mahmoud Abbas<extra_id_60><extra_id_53> Mahmoud Abbas<extra_id_60><extra_id_53> country<extra_id_61><extra_id_54> head of state<extra_id_61><extra_id_54> instance of',\n",
       " 'label': '<extra_id_6><extra_id_21><extra_id_39><extra_id_19><extra_id_33><extra_id_39><extra_id_54> head of state<extra_id_53> Mahmoud Abbas<extra_id_38><extra_id_39><extra_id_54> instance of<extra_id_53> country<extra_id_15>'}"
      ]
     },
     "execution_count": 10,
     "metadata": {},
     "output_type": "execute_result"
    }
   ],
   "source": [
    "out_file[0]"
   ]
  },
  {
   "cell_type": "code",
   "execution_count": 8,
   "id": "15f109cf-cdcf-40af-a3e2-c3a955dea164",
   "metadata": {
    "execution": {
     "iopub.execute_input": "2022-10-21T02:42:50.312853Z",
     "iopub.status.busy": "2022-10-21T02:42:50.312400Z",
     "iopub.status.idle": "2022-10-21T02:42:50.324966Z",
     "shell.execute_reply": "2022-10-21T02:42:50.324002Z",
     "shell.execute_reply.started": "2022-10-21T02:42:50.312791Z"
    },
    "tags": []
   },
   "outputs": [],
   "source": [
    "def readable(string):\n",
    "    vocab = ['\"', '(', 'rdfs:label', 'by', 'ask', '>', 'select', 'que', 'limit', 'jai', 'mai', \n",
    "        '?sbj', ')', 'lang', 'year', '}', '?value', 'peint', 'desc', 'where', 'ce', 'distinct', \n",
    "       'filter', 'lcase', 'order', 'la', '<', 'asc', 'en', 'contains', 'as', ',', 'strstarts', \n",
    "       '{', \"'\", 'j', 'count', '=', '.', '?vr0', '?vr1', '?vr2', '?vr3', '?vr4', '?vr5', '?vr6', \n",
    "       '?vr0_label', '?vr1_label', '?vr2_label', '?vr3_label', '?vr4_label', '?vr5_label', '?vr6_label',\n",
    "       'wd:', 'wdt:', 'ps:', 'p:', 'pq:', '?maskvar1', '[DEF]','[Entity]', '[Relation]',  'null']\n",
    "\n",
    "    vocab_dict = {}\n",
    "    for i,text in enumerate(vocab):\n",
    "        vocab_dict['<extra_id_'+str(i)+'>'] = text\n",
    "                        \n",
    "    for key in vocab_dict:\n",
    "        string = string.replace(key,' '+vocab_dict[key]+' ')\n",
    "        \n",
    "    return ' '.join(string.split())"
   ]
  },
  {
   "cell_type": "code",
   "execution_count": 12,
   "id": "98e85c70-fa32-4fb8-8574-52f7bed7b671",
   "metadata": {
    "execution": {
     "iopub.execute_input": "2022-10-21T02:45:25.787468Z",
     "iopub.status.busy": "2022-10-21T02:45:25.787063Z",
     "iopub.status.idle": "2022-10-21T02:45:26.490889Z",
     "shell.execute_reply": "2022-10-21T02:45:26.490212Z",
     "shell.execute_reply.started": "2022-10-21T02:45:25.787417Z"
    },
    "tags": []
   },
   "outputs": [],
   "source": [
    "out = [{'input':readable(item['prediction']), 'target':readable(item['label'])} for item in out_file]\n"
   ]
  },
  {
   "cell_type": "code",
   "execution_count": 15,
   "id": "abcf26d6-f780-4f63-af25-fea0479ba846",
   "metadata": {
    "execution": {
     "iopub.execute_input": "2022-10-21T02:45:45.200121Z",
     "iopub.status.busy": "2022-10-21T02:45:45.199709Z",
     "iopub.status.idle": "2022-10-21T02:45:45.207345Z",
     "shell.execute_reply": "2022-10-21T02:45:45.206344Z",
     "shell.execute_reply.started": "2022-10-21T02:45:45.200068Z"
    },
    "tags": []
   },
   "outputs": [
    {
     "data": {
      "text/plain": [
       "{'input': 'select ?vr0 ?vr1 where { wd: God Save the Queen wdt: performer ?vr0 . wd: God Save the Queen wdt: composer ?vr1 }',\n",
       " 'target': 'select ?vr0 ?vr1 where { wd: God Save the Queen wdt: performer ?vr0 . wd: God Save the Queen wdt: composer ?vr1 }'}"
      ]
     },
     "execution_count": 15,
     "metadata": {},
     "output_type": "execute_result"
    }
   ],
   "source": [
    "out[1000]"
   ]
  },
  {
   "cell_type": "code",
   "execution_count": 17,
   "id": "cddccaf2-08ce-4f13-b1c3-62b9a7f2de9e",
   "metadata": {
    "execution": {
     "iopub.execute_input": "2022-10-21T02:46:25.908932Z",
     "iopub.status.busy": "2022-10-21T02:46:25.908518Z",
     "iopub.status.idle": "2022-10-21T02:46:25.968977Z",
     "shell.execute_reply": "2022-10-21T02:46:25.967846Z",
     "shell.execute_reply.started": "2022-10-21T02:46:25.908879Z"
    },
    "tags": []
   },
   "outputs": [],
   "source": [
    "dict_json=json.dumps(out, indent=2)\n",
    "\n",
    "with open('file.json','w+') as file:\n",
    "    file.write(dict_json)"
   ]
  }
 ],
 "metadata": {
  "kernelspec": {
   "display_name": "Python [conda env:python37] *",
   "language": "python",
   "name": "conda-env-python37-py"
  },
  "language_info": {
   "codemirror_mode": {
    "name": "ipython",
    "version": 3
   },
   "file_extension": ".py",
   "mimetype": "text/x-python",
   "name": "python",
   "nbconvert_exporter": "python",
   "pygments_lexer": "ipython3",
   "version": "3.7.11"
  }
 },
 "nbformat": 4,
 "nbformat_minor": 5
}
